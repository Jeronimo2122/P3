{
 "cells": [
  {
   "cell_type": "markdown",
   "metadata": {},
   "source": [
    "## Analitica Computacional para la toma de Decisiones\n",
    "## Proyecto 3 - AnaLítica de resultados Saber 11\n",
    "Carlos Gomez - 202111593\n",
    "<br>\n",
    "Jeronimo Vargas - 202113305\n",
    "<br>\n",
    "Juan Esteban Lopez - 202021417\n",
    "<br>"
   ]
  },
  {
   "cell_type": "code",
   "execution_count": 106,
   "metadata": {},
   "outputs": [],
   "source": [
    "# Importar librerias\n",
    "\n",
    "import numpy as np\n",
    "import pandas as pd\n",
    "from sklearn.model_selection import train_test_split\n",
    "from sklearn.preprocessing import StandardScaler, MinMaxScaler\n",
    "from tensorflow.keras.models import Sequential\n",
    "from tensorflow.keras.layers import Dense\n",
    "from tensorflow.keras.optimizers import Adam\n",
    "from sklearn.metrics import mean_squared_error, r2_score\n",
    "\n",
    "# Importar el dataset\n",
    "df = pd.read_csv(\"DF_FINAL.csv\")\n",
    "\n",
    "# Definir variables independientes (X) y dependiente (y)\n",
    "X = df.drop(columns=['punt_global'])  # Excluir la columna de puntaje global\n",
    "y = df['punt_global']  # Variable objetivo\n",
    "\n",
    "scaler = StandardScaler()\n",
    "X_scaled = scaler.fit_transform(X)\n",
    "\n",
    "# Dividir los datos en entrenamiento y prueba\n",
    "X_train, X_test, y_train, y_test = train_test_split(X_scaled, y, test_size=0.2, random_state=42)"
   ]
  },
  {
   "cell_type": "markdown",
   "metadata": {},
   "source": [
    "## Modelo 1: Red Neuronal Simple (Modelo Base)\n",
    "Este modelo será una red neuronal sencilla con una capa de entrada, una capa oculta y una capa de salida. Es un modelo básico para observar cómo funciona la regresión con redes neuronales en este conjunto de datos.\n",
    "\n",
    "### Características del Modelo:\n",
    "- Capa de entrada: 64 nodos.\n",
    "- Capa oculta: 32 nodos con función de activación ReLU.\n",
    "- Capa de salida: 1 nodo sin activación (regresión).\n",
    "- Optimización: Adam, que es adecuado para este tipo de modelos.\n",
    "- Función de pérdida: MSE (Mean Squared Error), común en tareas de regresión."
   ]
  },
  {
   "cell_type": "code",
   "execution_count": 107,
   "metadata": {},
   "outputs": [
    {
     "name": "stdout",
     "output_type": "stream",
     "text": [
      "Epoch 1/10\n"
     ]
    },
    {
     "name": "stderr",
     "output_type": "stream",
     "text": [
      "c:\\Users\\Jeronimo Vargas\\AppData\\Local\\Programs\\Python\\Python311\\Lib\\site-packages\\keras\\src\\layers\\core\\dense.py:87: UserWarning: Do not pass an `input_shape`/`input_dim` argument to a layer. When using Sequential models, prefer using an `Input(shape)` object as the first layer in the model instead.\n",
      "  super().__init__(activity_regularizer=activity_regularizer, **kwargs)\n"
     ]
    },
    {
     "name": "stdout",
     "output_type": "stream",
     "text": [
      "\u001b[1m1845/1845\u001b[0m \u001b[32m━━━━━━━━━━━━━━━━━━━━\u001b[0m\u001b[37m\u001b[0m \u001b[1m3s\u001b[0m 2ms/step - loss: 14975.0312 - val_loss: 65.6162\n",
      "Epoch 2/10\n",
      "\u001b[1m1845/1845\u001b[0m \u001b[32m━━━━━━━━━━━━━━━━━━━━\u001b[0m\u001b[37m\u001b[0m \u001b[1m3s\u001b[0m 2ms/step - loss: 49.0546 - val_loss: 25.6484\n",
      "Epoch 3/10\n",
      "\u001b[1m1845/1845\u001b[0m \u001b[32m━━━━━━━━━━━━━━━━━━━━\u001b[0m\u001b[37m\u001b[0m \u001b[1m3s\u001b[0m 1ms/step - loss: 21.4950 - val_loss: 16.4729\n",
      "Epoch 4/10\n",
      "\u001b[1m1845/1845\u001b[0m \u001b[32m━━━━━━━━━━━━━━━━━━━━\u001b[0m\u001b[37m\u001b[0m \u001b[1m3s\u001b[0m 1ms/step - loss: 13.9222 - val_loss: 12.1411\n",
      "Epoch 5/10\n",
      "\u001b[1m1845/1845\u001b[0m \u001b[32m━━━━━━━━━━━━━━━━━━━━\u001b[0m\u001b[37m\u001b[0m \u001b[1m3s\u001b[0m 2ms/step - loss: 10.8092 - val_loss: 8.5784\n",
      "Epoch 6/10\n",
      "\u001b[1m1845/1845\u001b[0m \u001b[32m━━━━━━━━━━━━━━━━━━━━\u001b[0m\u001b[37m\u001b[0m \u001b[1m3s\u001b[0m 2ms/step - loss: 7.2979 - val_loss: 6.4500\n",
      "Epoch 7/10\n",
      "\u001b[1m1845/1845\u001b[0m \u001b[32m━━━━━━━━━━━━━━━━━━━━\u001b[0m\u001b[37m\u001b[0m \u001b[1m3s\u001b[0m 2ms/step - loss: 5.5563 - val_loss: 4.7056\n",
      "Epoch 8/10\n",
      "\u001b[1m1845/1845\u001b[0m \u001b[32m━━━━━━━━━━━━━━━━━━━━\u001b[0m\u001b[37m\u001b[0m \u001b[1m3s\u001b[0m 2ms/step - loss: 4.4848 - val_loss: 4.0216\n",
      "Epoch 9/10\n",
      "\u001b[1m1845/1845\u001b[0m \u001b[32m━━━━━━━━━━━━━━━━━━━━\u001b[0m\u001b[37m\u001b[0m \u001b[1m3s\u001b[0m 2ms/step - loss: 3.6154 - val_loss: 3.5638\n",
      "Epoch 10/10\n",
      "\u001b[1m1845/1845\u001b[0m \u001b[32m━━━━━━━━━━━━━━━━━━━━\u001b[0m\u001b[37m\u001b[0m \u001b[1m3s\u001b[0m 2ms/step - loss: 3.2637 - val_loss: 3.2093\n",
      "\u001b[1m462/462\u001b[0m \u001b[32m━━━━━━━━━━━━━━━━━━━━\u001b[0m\u001b[37m\u001b[0m \u001b[1m0s\u001b[0m 900us/step\n",
      "Modelo 1 - MSE: 3.209263870753321, R^2: 0.9982585473843663\n"
     ]
    }
   ],
   "source": [
    "# Crear el modelo\n",
    "model1 = Sequential()\n",
    "model1.add(Dense(64, input_dim=X_train.shape[1], activation='relu'))\n",
    "model1.add(Dense(32, activation='relu'))\n",
    "model1.add(Dense(1))  # Capa de salida\n",
    "\n",
    "# Compilar el modelo\n",
    "model1.compile(optimizer=Adam(), loss='mean_squared_error')\n",
    "\n",
    "# Entrenar el modelo\n",
    "history1 = model1.fit(X_train, y_train, epochs=10, batch_size=32, validation_data=(X_test, y_test))\n",
    "\n",
    "# Evaluación\n",
    "y_pred1 = model1.predict(X_test)\n",
    "mse1 = mean_squared_error(y_test, y_pred1)\n",
    "r2_1 = r2_score(y_test, y_pred1)\n",
    "\n",
    "print(f\"Modelo 1 - MSE: {mse1}, R^2: {r2_1}\")\n"
   ]
  },
  {
   "cell_type": "markdown",
   "metadata": {},
   "source": [
    "## Modelo 2: Red Neuronal Profunda\n",
    "Este modelo tendrá más capas ocultas para permitir la captura de patrones más complejos en los datos. La idea es que una mayor profundidad permita al modelo aprender representaciones más abstractas de los datos.\n",
    "\n",
    "### Características del Modelo:\n",
    "- Capa de entrada: 128 nodos.\n",
    "- Capas ocultas: 3 capas, cada una con 64 nodos y función de activación ReLU.\n",
    "- Capa de salida: 1 nodo sin activación.\n",
    "- Optimización: Adam con un learning rate ajustado.\n",
    "- Función de pérdida: MSE."
   ]
  },
  {
   "cell_type": "code",
   "execution_count": 108,
   "metadata": {},
   "outputs": [
    {
     "name": "stdout",
     "output_type": "stream",
     "text": [
      "Epoch 1/10\n"
     ]
    },
    {
     "name": "stderr",
     "output_type": "stream",
     "text": [
      "c:\\Users\\Jeronimo Vargas\\AppData\\Local\\Programs\\Python\\Python311\\Lib\\site-packages\\keras\\src\\layers\\core\\dense.py:87: UserWarning: Do not pass an `input_shape`/`input_dim` argument to a layer. When using Sequential models, prefer using an `Input(shape)` object as the first layer in the model instead.\n",
      "  super().__init__(activity_regularizer=activity_regularizer, **kwargs)\n"
     ]
    },
    {
     "name": "stdout",
     "output_type": "stream",
     "text": [
      "\u001b[1m1845/1845\u001b[0m \u001b[32m━━━━━━━━━━━━━━━━━━━━\u001b[0m\u001b[37m\u001b[0m \u001b[1m4s\u001b[0m 2ms/step - loss: 7877.4512 - val_loss: 22.9882\n",
      "Epoch 2/10\n",
      "\u001b[1m1845/1845\u001b[0m \u001b[32m━━━━━━━━━━━━━━━━━━━━\u001b[0m\u001b[37m\u001b[0m \u001b[1m3s\u001b[0m 2ms/step - loss: 19.7358 - val_loss: 16.2706\n",
      "Epoch 3/10\n",
      "\u001b[1m1845/1845\u001b[0m \u001b[32m━━━━━━━━━━━━━━━━━━━━\u001b[0m\u001b[37m\u001b[0m \u001b[1m3s\u001b[0m 2ms/step - loss: 12.8175 - val_loss: 10.1662\n",
      "Epoch 4/10\n",
      "\u001b[1m1845/1845\u001b[0m \u001b[32m━━━━━━━━━━━━━━━━━━━━\u001b[0m\u001b[37m\u001b[0m \u001b[1m3s\u001b[0m 2ms/step - loss: 7.9019 - val_loss: 5.8849\n",
      "Epoch 5/10\n",
      "\u001b[1m1845/1845\u001b[0m \u001b[32m━━━━━━━━━━━━━━━━━━━━\u001b[0m\u001b[37m\u001b[0m \u001b[1m3s\u001b[0m 1ms/step - loss: 5.4910 - val_loss: 4.5458\n",
      "Epoch 6/10\n",
      "\u001b[1m1845/1845\u001b[0m \u001b[32m━━━━━━━━━━━━━━━━━━━━\u001b[0m\u001b[37m\u001b[0m \u001b[1m3s\u001b[0m 2ms/step - loss: 4.5255 - val_loss: 4.1125\n",
      "Epoch 7/10\n",
      "\u001b[1m1845/1845\u001b[0m \u001b[32m━━━━━━━━━━━━━━━━━━━━\u001b[0m\u001b[37m\u001b[0m \u001b[1m3s\u001b[0m 2ms/step - loss: 4.1706 - val_loss: 4.0587\n",
      "Epoch 8/10\n",
      "\u001b[1m1845/1845\u001b[0m \u001b[32m━━━━━━━━━━━━━━━━━━━━\u001b[0m\u001b[37m\u001b[0m \u001b[1m3s\u001b[0m 2ms/step - loss: 3.4396 - val_loss: 2.2401\n",
      "Epoch 9/10\n",
      "\u001b[1m1845/1845\u001b[0m \u001b[32m━━━━━━━━━━━━━━━━━━━━\u001b[0m\u001b[37m\u001b[0m \u001b[1m3s\u001b[0m 2ms/step - loss: 2.7748 - val_loss: 2.0123\n",
      "Epoch 10/10\n",
      "\u001b[1m1845/1845\u001b[0m \u001b[32m━━━━━━━━━━━━━━━━━━━━\u001b[0m\u001b[37m\u001b[0m \u001b[1m3s\u001b[0m 2ms/step - loss: 3.4690 - val_loss: 3.2133\n",
      "\u001b[1m462/462\u001b[0m \u001b[32m━━━━━━━━━━━━━━━━━━━━\u001b[0m\u001b[37m\u001b[0m \u001b[1m1s\u001b[0m 1ms/step\n",
      "Modelo 2 - MSE: 3.2132575457951313, R^2: 0.9982563802843311\n"
     ]
    }
   ],
   "source": [
    "# Crear el modelo profundo\n",
    "model2 = Sequential()\n",
    "model2.add(Dense(128, input_dim=X_train.shape[1], activation='relu'))  # Capa de entrada y oculta\n",
    "model2.add(Dense(64, activation='relu'))  # Capa oculta\n",
    "model2.add(Dense(64, activation='relu'))  # Capa oculta\n",
    "model2.add(Dense(1))  # Capa de salida\n",
    "\n",
    "# Compilar el modelo\n",
    "model2.compile(optimizer=Adam(), loss='mean_squared_error')\n",
    "\n",
    "# Entrenar el modelo\n",
    "history2 = model2.fit(X_train, y_train, epochs=10, batch_size=32, validation_data=(X_test, y_test))\n",
    "\n",
    "# Evaluación\n",
    "y_pred2 = model2.predict(X_test)\n",
    "mse2 = mean_squared_error(y_test, y_pred2)\n",
    "r2_2 = r2_score(y_test, y_pred2)\n",
    "\n",
    "print(f\"Modelo 2 - MSE: {mse2}, R^2: {r2_2}\")"
   ]
  },
  {
   "cell_type": "markdown",
   "metadata": {},
   "source": [
    "## Modelo 3: Red Neuronal con Dropout y Regularización L2\n",
    "Este modelo incluye Dropout y regularización L2 para prevenir el sobreajuste, lo que es útil cuando tenemos un conjunto de datos más pequeño o con mucha varianza. El Dropout ayuda a regularizar la red, mientras que la regularización L2 penaliza los pesos grandes, promoviendo una red más generalizable.\n",
    "\n",
    "### Características del Modelo:\n",
    "- Capa de entrada: 64 nodos.\n",
    "- Capas ocultas: 2 capas, cada una con 128 nodos y función de activación ReLU.\n",
    "- Capa de salida: 1 nodo sin activación.\n",
    "- Optimización: Adam con learning rate decay para una mejor convergencia.\n",
    "- Función de pérdida: MSE.\n",
    "- Regularización: Dropout (0.2) y L2 regularization"
   ]
  },
  {
   "cell_type": "code",
   "execution_count": 109,
   "metadata": {},
   "outputs": [
    {
     "name": "stdout",
     "output_type": "stream",
     "text": [
      "Epoch 1/10\n"
     ]
    },
    {
     "name": "stderr",
     "output_type": "stream",
     "text": [
      "c:\\Users\\Jeronimo Vargas\\AppData\\Local\\Programs\\Python\\Python311\\Lib\\site-packages\\keras\\src\\layers\\core\\dense.py:87: UserWarning: Do not pass an `input_shape`/`input_dim` argument to a layer. When using Sequential models, prefer using an `Input(shape)` object as the first layer in the model instead.\n",
      "  super().__init__(activity_regularizer=activity_regularizer, **kwargs)\n"
     ]
    },
    {
     "name": "stdout",
     "output_type": "stream",
     "text": [
      "\u001b[1m1845/1845\u001b[0m \u001b[32m━━━━━━━━━━━━━━━━━━━━\u001b[0m\u001b[37m\u001b[0m \u001b[1m4s\u001b[0m 2ms/step - loss: 10221.9795 - val_loss: 57.4881\n",
      "Epoch 2/10\n",
      "\u001b[1m1845/1845\u001b[0m \u001b[32m━━━━━━━━━━━━━━━━━━━━\u001b[0m\u001b[37m\u001b[0m \u001b[1m3s\u001b[0m 2ms/step - loss: 460.4081 - val_loss: 59.7318\n",
      "Epoch 3/10\n",
      "\u001b[1m1845/1845\u001b[0m \u001b[32m━━━━━━━━━━━━━━━━━━━━\u001b[0m\u001b[37m\u001b[0m \u001b[1m3s\u001b[0m 2ms/step - loss: 417.2520 - val_loss: 36.4669\n",
      "Epoch 4/10\n",
      "\u001b[1m1845/1845\u001b[0m \u001b[32m━━━━━━━━━━━━━━━━━━━━\u001b[0m\u001b[37m\u001b[0m \u001b[1m3s\u001b[0m 2ms/step - loss: 382.0345 - val_loss: 54.2879\n",
      "Epoch 5/10\n",
      "\u001b[1m1845/1845\u001b[0m \u001b[32m━━━━━━━━━━━━━━━━━━━━\u001b[0m\u001b[37m\u001b[0m \u001b[1m3s\u001b[0m 2ms/step - loss: 356.1102 - val_loss: 27.9251\n",
      "Epoch 6/10\n",
      "\u001b[1m1845/1845\u001b[0m \u001b[32m━━━━━━━━━━━━━━━━━━━━\u001b[0m\u001b[37m\u001b[0m \u001b[1m3s\u001b[0m 2ms/step - loss: 338.4899 - val_loss: 25.0079\n",
      "Epoch 7/10\n",
      "\u001b[1m1845/1845\u001b[0m \u001b[32m━━━━━━━━━━━━━━━━━━━━\u001b[0m\u001b[37m\u001b[0m \u001b[1m3s\u001b[0m 2ms/step - loss: 319.3720 - val_loss: 19.7058\n",
      "Epoch 8/10\n",
      "\u001b[1m1845/1845\u001b[0m \u001b[32m━━━━━━━━━━━━━━━━━━━━\u001b[0m\u001b[37m\u001b[0m \u001b[1m3s\u001b[0m 2ms/step - loss: 303.6798 - val_loss: 15.3249\n",
      "Epoch 9/10\n",
      "\u001b[1m1845/1845\u001b[0m \u001b[32m━━━━━━━━━━━━━━━━━━━━\u001b[0m\u001b[37m\u001b[0m \u001b[1m3s\u001b[0m 2ms/step - loss: 287.6266 - val_loss: 14.9035\n",
      "Epoch 10/10\n",
      "\u001b[1m1845/1845\u001b[0m \u001b[32m━━━━━━━━━━━━━━━━━━━━\u001b[0m\u001b[37m\u001b[0m \u001b[1m3s\u001b[0m 2ms/step - loss: 274.9660 - val_loss: 15.9097\n",
      "\u001b[1m462/462\u001b[0m \u001b[32m━━━━━━━━━━━━━━━━━━━━\u001b[0m\u001b[37m\u001b[0m \u001b[1m1s\u001b[0m 1ms/step\n",
      "Modelo 3 - MSE: 13.222275629883798, R^2: 0.9928251563574653\n"
     ]
    }
   ],
   "source": [
    "from tensorflow.keras.regularizers import l2\n",
    "from tensorflow.keras.layers import Dropout\n",
    "\n",
    "# Crear el modelo con Dropout y Regularización L2\n",
    "model3 = Sequential()\n",
    "model3.add(Dense(128, input_dim=X_train.shape[1], activation='relu', kernel_regularizer=l2(0.01)))  # Capa de entrada y oculta con regularización L2\n",
    "model3.add(Dropout(0.2))  # Capa Dropout\n",
    "model3.add(Dense(128, activation='relu', kernel_regularizer=l2(0.01)))  # Capa oculta con regularización L2\n",
    "model3.add(Dropout(0.2))  # Capa Dropout\n",
    "model3.add(Dense(1))  # Capa de salida\n",
    "\n",
    "# Compilar el modelo\n",
    "model3.compile(optimizer=Adam(learning_rate=0.001), loss='mean_squared_error')\n",
    "\n",
    "# Entrenar el modelo\n",
    "history3 = model3.fit(X_train, y_train, epochs=10, batch_size=32, validation_data=(X_test, y_test))\n",
    "\n",
    "# Evaluación\n",
    "y_pred3 = model3.predict(X_test)\n",
    "mse3 = mean_squared_error(y_test, y_pred3)\n",
    "r2_3 = r2_score(y_test, y_pred3)\n",
    "\n",
    "print(f\"Modelo 3 - MSE: {mse3}, R^2: {r2_3}\")"
   ]
  },
  {
   "cell_type": "code",
   "execution_count": 118,
   "metadata": {},
   "outputs": [
    {
     "name": "stdout",
     "output_type": "stream",
     "text": [
      "Modelo 1 - MSE: 3.209263870753321, R^2: 0.9982585473843663\n",
      "Modelo 2 - MSE: 3.2132575457951313, R^2: 0.9982563802843311\n",
      "Modelo 3 - MSE: 13.222275629883798, R^2: 0.9928251563574653\n"
     ]
    }
   ],
   "source": [
    "# Imprimir los MSE y R^2 de los tres modelos\n",
    "print(f\"Modelo 1 - MSE: {mse1}, R^2: {r2_1}\")\n",
    "print(f\"Modelo 2 - MSE: {mse2}, R^2: {r2_2}\")\n",
    "print(f\"Modelo 3 - MSE: {mse3}, R^2: {r2_3}\")\n"
   ]
  },
  {
   "cell_type": "markdown",
   "metadata": {},
   "source": [
    "### Deacuerdo al experimento en MLflow se puede ver como el MODELO 1 es el que mejor se ajusta y representa los datos de manera predictiva. "
   ]
  },
  {
   "cell_type": "code",
   "execution_count": 113,
   "metadata": {},
   "outputs": [
    {
     "name": "stderr",
     "output_type": "stream",
     "text": [
      "WARNING:absl:You are saving your model as an HDF5 file via `model.save()` or `keras.saving.save_model(model)`. This file format is considered legacy. We recommend using instead the native Keras format, e.g. `model.save('my_model.keras')` or `keras.saving.save_model(model, 'my_model.keras')`. \n",
      "WARNING:absl:You are saving your model as an HDF5 file via `model.save()` or `keras.saving.save_model(model)`. This file format is considered legacy. We recommend using instead the native Keras format, e.g. `model.save('my_model.keras')` or `keras.saving.save_model(model, 'my_model.keras')`. \n",
      "WARNING:absl:You are saving your model as an HDF5 file via `model.save()` or `keras.saving.save_model(model)`. This file format is considered legacy. We recommend using instead the native Keras format, e.g. `model.save('my_model.keras')` or `keras.saving.save_model(model, 'my_model.keras')`. \n"
     ]
    },
    {
     "data": {
      "text/plain": [
       "['scaler.pkl']"
      ]
     },
     "execution_count": 113,
     "metadata": {},
     "output_type": "execute_result"
    }
   ],
   "source": [
    "# Guardar los modelos\n",
    "model1.save(\"model1.h5\")\n",
    "model2.save(\"model2.h5\")\n",
    "model3.save(\"model3.h5\")\n",
    "\n",
    "# Guardar el scaler\n",
    "import joblib\n",
    "joblib.dump(scaler, \"scaler.pkl\")"
   ]
  },
  {
   "cell_type": "markdown",
   "metadata": {},
   "source": [
    "### El Modelo 2 es el mejor, ya que tiene el MSE más bajo y el R² más alto, lo que lo convierte en el modelo más preciso y con el mejor poder explicativo de las tres opciones."
   ]
  },
  {
   "cell_type": "code",
   "execution_count": 96,
   "metadata": {},
   "outputs": [
    {
     "name": "stderr",
     "output_type": "stream",
     "text": [
      "WARNING:absl:You are saving your model as an HDF5 file via `model.save()` or `keras.saving.save_model(model)`. This file format is considered legacy. We recommend using instead the native Keras format, e.g. `model.save('my_model.keras')` or `keras.saving.save_model(model, 'my_model.keras')`. \n"
     ]
    },
    {
     "name": "stdout",
     "output_type": "stream",
     "text": [
      "38\n"
     ]
    }
   ],
   "source": [
    "# Guardar modelo 2\n",
    "model1.save(\"modelo.h5\")\n",
    "\n",
    "# Guardar el scaler\n",
    "import joblib\n",
    "joblib.dump(scaler, \"scaler.pkl\")\n",
    "\n",
    "print(X_train.shape[1])"
   ]
  },
  {
   "cell_type": "code",
   "execution_count": 97,
   "metadata": {},
   "outputs": [
    {
     "name": "stderr",
     "output_type": "stream",
     "text": [
      "WARNING:absl:Compiled the loaded model, but the compiled metrics have yet to be built. `model.compile_metrics` will be empty until you train or evaluate the model.\n"
     ]
    },
    {
     "name": "stdout",
     "output_type": "stream",
     "text": [
      "\u001b[1m1845/1845\u001b[0m \u001b[32m━━━━━━━━━━━━━━━━━━━━\u001b[0m\u001b[37m\u001b[0m \u001b[1m2s\u001b[0m 1ms/step\n",
      "[[188.22241]\n",
      " [274.0616 ]\n",
      " [264.48282]\n",
      " ...\n",
      " [266.7064 ]\n",
      " [169.57779]\n",
      " [214.37756]]\n",
      "[-0.10009234  0.37292239  0.17264706  0.         -0.01411036 -0.3831534\n",
      " -0.82297071 -0.80107489 -0.57346939 -1.28146635 -0.8146528  -0.42136926\n",
      " -0.81268633  0.50039379  0.05806808 -0.04587785 -0.40120953  0.97933193\n",
      " -0.07021061  0.16877978 -1.14252518  3.14243369 -0.14472543 -0.46027491\n",
      " -0.28428063 -0.91087475  0.         -0.47338647 -0.37268662 -0.19117403\n",
      " -0.11504677 -0.1026842  -0.20031687  0.7392064  -0.57951478 -0.26369915\n",
      " -0.0951407  -0.16958486]\n",
      "\u001b[1m1/1\u001b[0m \u001b[32m━━━━━━━━━━━━━━━━━━━━\u001b[0m\u001b[37m\u001b[0m \u001b[1m0s\u001b[0m 20ms/step\n",
      "[[242.97798]]\n"
     ]
    },
    {
     "name": "stderr",
     "output_type": "stream",
     "text": [
      "c:\\Users\\Jeronimo Vargas\\AppData\\Local\\Programs\\Python\\Python311\\Lib\\site-packages\\sklearn\\base.py:493: UserWarning: X does not have valid feature names, but StandardScaler was fitted with feature names\n",
      "  warnings.warn(\n"
     ]
    }
   ],
   "source": [
    "# Importar modelo y scaler\n",
    "from tensorflow.keras.models import load_model\n",
    "import joblib\n",
    "\n",
    "model = load_model(\"modelo.h5\")\n",
    "scaler = joblib.load(\"scaler.pkl\")\n",
    "\n",
    "# PRedecir con el modelo\n",
    "\n",
    "y_pred = model.predict(X_train)\n",
    "print(y_pred)\n",
    "\n",
    "print(X_train[0])\n",
    "\n",
    "# Predecir con datos nuevos 0,1,1,0,4.0,1,1,1,51.0,45.0,55.0,49.0,45.0,1,1,0,1,0,0,1,1,0,0,0,0,1,1,0,1,0,0,0,0,0,1,0,0,0\n",
    "X_new = np.array([[0,1,1,0,4.0,1,1,1,51.0,45.0,55.0,49.0,45.0,1,1,0,1,0,0,1,1,0,0,0,0,1,1,0,1,0,0,0,0,0,1,0,0,0]])\n",
    "X_new_scaled = scaler.transform(X_new)\n",
    "y_pred_new = model.predict(X_new_scaled)\n",
    "print(y_pred_new)\n"
   ]
  },
  {
   "cell_type": "code",
   "execution_count": 95,
   "metadata": {},
   "outputs": [
    {
     "name": "stdout",
     "output_type": "stream",
     "text": [
      "                                  neurona_1  neurona_2  neurona_3  neurona_4  \\\n",
      "cole_bilingue                      0.049647   0.268717  -0.637948   0.082158   \n",
      "cole_naturaleza_oficial            0.264420   0.146108  -0.182668   0.429960   \n",
      "cole_sede_principal               -0.078367   0.288177   0.193107  -0.040506   \n",
      "estu_privado_libertad             -0.177936   0.099123   0.153671  -0.121170   \n",
      "fami_personashogar                -0.035788   0.000046   0.017797   0.008849   \n",
      "fami_tieneautomovil               -0.170463  -0.087338   0.057339  -0.075864   \n",
      "fami_tienecomputador               0.216825   0.293405   0.162019  -0.013364   \n",
      "fami_tieneinternet                 0.188735   0.059328  -0.067357   0.028100   \n",
      "punt_ingles                        0.069211   0.000048   0.069814   0.058623   \n",
      "punt_matematicas                   0.192560   0.002845  -0.033340   0.071536   \n",
      "punt_sociales_ciudadanas           0.113261   0.134610   0.038631   0.129087   \n",
      "punt_c_naturales                   0.124008   0.018195  -0.074418   0.045725   \n",
      "punt_lectura_critica               0.154526   0.098939  -0.065808   0.110208   \n",
      "cole_area_ubicacion_URBANO         0.372176  -0.019321   0.454088   0.079837   \n",
      "cole_calendario_A                 -0.106724   0.177852   0.092464  -0.141986   \n",
      "cole_caracter_NO APLICA            0.052057  -0.824168  -0.776196   0.112864   \n",
      "cole_caracter_TÉCNICO              0.183753  -0.030344  -0.061917  -0.676357   \n",
      "cole_caracter_TÉCNICO/ACADÉMICO   -0.113564  -0.054225  -0.125284   0.389861   \n",
      "cole_genero_MASCULINO             -0.120318  -0.133311  -0.173025  -0.766504   \n",
      "cole_genero_MIXTO                  0.270022  -0.229738   0.096913  -0.367021   \n",
      "cole_jornada_MAÑANA                0.153619  -0.397406   0.227102  -0.230422   \n",
      "cole_jornada_NOCHE                 0.322848  -0.067798  -0.589785  -0.072841   \n",
      "cole_jornada_SABATINA              0.080933   0.291434  -0.739052  -0.070430   \n",
      "cole_jornada_TARDE                -0.291188   0.383071   0.123967   0.440023   \n",
      "cole_jornada_UNICA                -0.130909   0.154924   0.285079   0.007926   \n",
      "estu_genero_masculino             -0.061161   0.005356   0.021679  -0.182835   \n",
      "pais_nacionalidad_reside           0.060259  -0.150628  -0.132635   0.142622   \n",
      "fami_estratovivienda_Estrato 2    -0.067073  -0.177955   0.289709  -0.208900   \n",
      "fami_estratovivienda_Estrato 3    -0.353087   0.187318  -0.533337   0.163437   \n",
      "fami_estratovivienda_Estrato 4     0.230158   0.088769   0.004133  -0.582978   \n",
      "fami_estratovivienda_Estrato 5     0.195564  -0.895106  -0.521321   0.073915   \n",
      "fami_estratovivienda_Estrato 6     0.093481  -0.057319  -0.628172  -0.886355   \n",
      "fami_estratovivienda_Sin Estrato   0.243006   0.200190  -0.376725   0.120409   \n",
      "desemp_ingles_A-                   0.227489   0.713270  -0.105360  -0.284695   \n",
      "desemp_ingles_A1                  -0.457003  -0.806181   0.359911   0.031222   \n",
      "desemp_ingles_A2                   0.147892   0.245661   0.490715  -0.000314   \n",
      "desemp_ingles_B+                  -0.349216  -0.022345  -0.270505  -0.924738   \n",
      "desemp_ingles_B1                  -0.655005  -0.710563   0.321442  -0.119309   \n",
      "\n",
      "                                  neurona_5  neurona_6  neurona_7  neurona_8  \\\n",
      "cole_bilingue                      0.184107   0.210857  -0.743211  -0.838844   \n",
      "cole_naturaleza_oficial            0.048101   0.080060  -0.086918  -0.066767   \n",
      "cole_sede_principal                0.055012   0.021448   0.441311  -0.189163   \n",
      "estu_privado_libertad             -0.001385  -0.161055   0.029429   0.120216   \n",
      "fami_personashogar                 0.008175  -0.019231   0.014183  -0.012358   \n",
      "fami_tieneautomovil                0.028748   0.011728  -0.243939   0.028273   \n",
      "fami_tienecomputador               0.235974   0.021476   0.017397  -0.046554   \n",
      "fami_tieneinternet                -0.149266  -0.077509  -0.077107   0.174104   \n",
      "punt_ingles                        0.109815   0.218342   0.045383  -0.066104   \n",
      "punt_matematicas                   0.213572   0.300222   0.088704  -0.014453   \n",
      "punt_sociales_ciudadanas           0.196042   0.248762   0.140671   0.059452   \n",
      "punt_c_naturales                   0.071036   0.209941   0.055056   0.017306   \n",
      "punt_lectura_critica               0.149778   0.264118   0.108013   0.061599   \n",
      "cole_area_ubicacion_URBANO        -0.008043  -0.033783   0.122876  -0.013907   \n",
      "cole_calendario_A                 -0.088694  -0.112807   0.709023   0.656278   \n",
      "cole_caracter_NO APLICA            0.079233   0.172115  -0.737485  -0.060069   \n",
      "cole_caracter_TÉCNICO              0.139885   0.746950   0.301135   0.230452   \n",
      "cole_caracter_TÉCNICO/ACADÉMICO   -0.182971  -0.211836  -0.081259   0.002229   \n",
      "cole_genero_MASCULINO             -0.758980   0.157365   0.058121  -0.728368   \n",
      "cole_genero_MIXTO                  0.194967  -0.137402  -0.271756  -0.220288   \n",
      "cole_jornada_MAÑANA               -0.032399   0.014029  -0.773562   0.260563   \n",
      "cole_jornada_NOCHE                 0.002286   0.102303   0.326118  -0.662577   \n",
      "cole_jornada_SABATINA              0.007443   0.096544   0.152802  -0.841779   \n",
      "cole_jornada_TARDE                -0.224297   0.094167   0.156779  -0.151612   \n",
      "cole_jornada_UNICA                -0.164577   0.036598   0.112521  -0.223040   \n",
      "estu_genero_masculino              0.052997   0.031763   0.005692  -0.015151   \n",
      "pais_nacionalidad_reside           0.190550  -0.008987   0.046319   0.044173   \n",
      "fami_estratovivienda_Estrato 2    -0.143842  -0.288728  -0.010591  -0.434675   \n",
      "fami_estratovivienda_Estrato 3     0.009823  -0.172340   0.449817   0.219101   \n",
      "fami_estratovivienda_Estrato 4    -0.675783   0.568624   0.082160  -0.422150   \n",
      "fami_estratovivienda_Estrato 5     0.187954   0.355585  -0.822071   0.129211   \n",
      "fami_estratovivienda_Estrato 6     0.039088  -0.105897  -0.783589  -0.697994   \n",
      "fami_estratovivienda_Sin Estrato   0.390175   0.665954   0.080574  -0.693511   \n",
      "desemp_ingles_A-                   1.032537  -0.830880  -0.460705  -0.082914   \n",
      "desemp_ingles_A1                  -0.571787   0.737163   0.451610   0.104695   \n",
      "desemp_ingles_A2                  -0.602142   0.369605  -0.156776  -0.447116   \n",
      "desemp_ingles_B+                  -0.062589   0.038832  -0.495095  -0.517301   \n",
      "desemp_ingles_B1                  -0.515141   0.191324   0.452581   0.269974   \n",
      "\n",
      "                                  neurona_9  neurona_10  ...  neurona_55  \\\n",
      "cole_bilingue                      0.053036   -0.913159  ...    0.123809   \n",
      "cole_naturaleza_oficial            0.376661   -0.003355  ...    0.460190   \n",
      "cole_sede_principal                0.290497    0.781880  ...    0.662343   \n",
      "estu_privado_libertad             -0.002307   -0.209553  ...   -0.091940   \n",
      "fami_personashogar                 0.004642    0.020675  ...   -0.016166   \n",
      "fami_tieneautomovil               -0.052293    0.016916  ...   -0.249631   \n",
      "fami_tienecomputador               0.102980    0.025583  ...   -0.436092   \n",
      "fami_tieneinternet                -0.027617    0.022708  ...   -0.282102   \n",
      "punt_ingles                        0.089597    0.115248  ...    0.026520   \n",
      "punt_matematicas                   0.024091    0.037451  ...    0.072334   \n",
      "punt_sociales_ciudadanas           0.063519    0.165952  ...    0.131524   \n",
      "punt_c_naturales                  -0.086432    0.157853  ...    0.174941   \n",
      "punt_lectura_critica              -0.035803    0.145532  ...    0.022346   \n",
      "cole_area_ubicacion_URBANO        -0.262455    0.178555  ...   -0.097777   \n",
      "cole_calendario_A                  0.875182    0.795106  ...   -0.181311   \n",
      "cole_caracter_NO APLICA           -0.656709    0.030153  ...   -0.791808   \n",
      "cole_caracter_TÉCNICO             -0.299428    0.229384  ...    0.219958   \n",
      "cole_caracter_TÉCNICO/ACADÉMICO    0.298937   -0.070462  ...   -0.309194   \n",
      "cole_genero_MASCULINO             -0.513659   -0.879088  ...    0.144366   \n",
      "cole_genero_MIXTO                  0.453090   -0.145218  ...   -0.289139   \n",
      "cole_jornada_MAÑANA                0.131630   -0.555024  ...   -0.277535   \n",
      "cole_jornada_NOCHE                -0.226628    0.084182  ...   -0.038907   \n",
      "cole_jornada_SABATINA             -0.476914    0.133724  ...   -0.232639   \n",
      "cole_jornada_TARDE                -0.712232   -0.280865  ...   -0.275849   \n",
      "cole_jornada_UNICA                 0.397153   -0.425762  ...    0.168419   \n",
      "estu_genero_masculino              0.003496    0.011170  ...    0.031051   \n",
      "pais_nacionalidad_reside          -0.070167   -0.232989  ...    0.119004   \n",
      "fami_estratovivienda_Estrato 2     0.042081    0.227596  ...   -0.297419   \n",
      "fami_estratovivienda_Estrato 3    -0.445018   -0.007244  ...   -0.021538   \n",
      "fami_estratovivienda_Estrato 4    -0.303054    0.110374  ...   -0.222229   \n",
      "fami_estratovivienda_Estrato 5     0.184101   -0.382057  ...    0.265428   \n",
      "fami_estratovivienda_Estrato 6    -0.246606   -0.838668  ...   -0.500697   \n",
      "fami_estratovivienda_Sin Estrato  -0.005914   -0.702868  ...    0.171714   \n",
      "desemp_ingles_A-                  -0.396716    0.516448  ...    0.021523   \n",
      "desemp_ingles_A1                   0.423902   -0.339369  ...    0.219221   \n",
      "desemp_ingles_A2                   0.506728   -0.005008  ...   -0.266137   \n",
      "desemp_ingles_B+                  -0.002741   -0.902673  ...    0.238729   \n",
      "desemp_ingles_B1                   0.249686   -0.916823  ...    0.143839   \n",
      "\n",
      "                                  neurona_56  neurona_57  neurona_58  \\\n",
      "cole_bilingue                      -0.125042   -0.032800    0.112373   \n",
      "cole_naturaleza_oficial            -0.076058    0.191333   -0.085615   \n",
      "cole_sede_principal                -0.017261   -0.069973   -0.356148   \n",
      "estu_privado_libertad               0.038188   -0.184447    0.028156   \n",
      "fami_personashogar                  0.006309    0.007692    0.020617   \n",
      "fami_tieneautomovil                -0.066621    0.033939    0.167850   \n",
      "fami_tienecomputador               -0.303320   -0.062779   -0.394022   \n",
      "fami_tieneinternet                 -0.216850   -0.005210   -0.200720   \n",
      "punt_ingles                         0.013599    0.019967    0.041522   \n",
      "punt_matematicas                    0.161863    0.128957    0.125850   \n",
      "punt_sociales_ciudadanas            0.060489    0.045773    0.187966   \n",
      "punt_c_naturales                    0.100408    0.088593    0.134529   \n",
      "punt_lectura_critica                0.119672   -0.011874    0.076193   \n",
      "cole_area_ubicacion_URBANO         -0.042153    0.037497   -0.265001   \n",
      "cole_calendario_A                   0.429592    0.498749   -0.038999   \n",
      "cole_caracter_NO APLICA            -0.645741   -0.737679    0.015377   \n",
      "cole_caracter_TÉCNICO               0.233569   -0.036714   -0.387667   \n",
      "cole_caracter_TÉCNICO/ACADÉMICO     0.123649    0.371445    0.030015   \n",
      "cole_genero_MASCULINO              -0.707265   -0.665883   -0.011378   \n",
      "cole_genero_MIXTO                  -0.255143    0.724945   -0.165875   \n",
      "cole_jornada_MAÑANA                -0.342042    0.380464    0.543067   \n",
      "cole_jornada_NOCHE                 -0.208430   -0.184158    0.391323   \n",
      "cole_jornada_SABATINA               0.201544   -0.707880    0.199052   \n",
      "cole_jornada_TARDE                  0.240448   -0.219318   -0.404853   \n",
      "cole_jornada_UNICA                  0.342841   -0.675732   -0.644369   \n",
      "estu_genero_masculino               0.034862   -0.065968   -0.135559   \n",
      "pais_nacionalidad_reside           -0.156022    0.218776    0.234715   \n",
      "fami_estratovivienda_Estrato 2      0.255016   -0.331633    0.186274   \n",
      "fami_estratovivienda_Estrato 3     -0.836798    0.111720    0.172427   \n",
      "fami_estratovivienda_Estrato 4     -0.707863    0.011838   -0.113510   \n",
      "fami_estratovivienda_Estrato 5      0.172571   -0.736659   -0.041182   \n",
      "fami_estratovivienda_Estrato 6      0.171846   -0.472949   -0.090731   \n",
      "fami_estratovivienda_Sin Estrato   -0.249095   -0.042720   -0.082219   \n",
      "desemp_ingles_A-                   -0.093706   -0.047161   -0.155658   \n",
      "desemp_ingles_A1                    0.264050    0.392349   -0.242813   \n",
      "desemp_ingles_A2                    0.198357   -0.538373    0.244992   \n",
      "desemp_ingles_B+                    0.181478   -0.273378    0.040704   \n",
      "desemp_ingles_B1                   -0.598062   -0.422124   -0.097971   \n",
      "\n",
      "                                  neurona_59  neurona_60  neurona_61  \\\n",
      "cole_bilingue                      -0.057505    0.079359    0.107031   \n",
      "cole_naturaleza_oficial             0.011034   -0.221710   -0.315669   \n",
      "cole_sede_principal                 0.046255   -0.370871   -0.138992   \n",
      "estu_privado_libertad               0.204850   -0.041045    0.147705   \n",
      "fami_personashogar                  0.012775    0.020431    0.018769   \n",
      "fami_tieneautomovil                -0.041052    0.077316    0.182845   \n",
      "fami_tienecomputador               -0.114744    0.063887    0.103188   \n",
      "fami_tieneinternet                  0.049858   -0.018362   -0.033177   \n",
      "punt_ingles                        -0.057144    0.120542    0.035972   \n",
      "punt_matematicas                    0.237227    0.165949    0.168691   \n",
      "punt_sociales_ciudadanas            0.173471    0.167652    0.128995   \n",
      "punt_c_naturales                    0.301444    0.205889    0.210334   \n",
      "punt_lectura_critica                0.102673    0.198405    0.067894   \n",
      "cole_area_ubicacion_URBANO         -0.131479   -0.057783    0.076489   \n",
      "cole_calendario_A                   0.846577    0.109649    0.248989   \n",
      "cole_caracter_NO APLICA             0.006078   -0.305429   -0.725158   \n",
      "cole_caracter_TÉCNICO              -0.201791   -0.861882   -0.039025   \n",
      "cole_caracter_TÉCNICO/ACADÉMICO     0.106859    0.194335    0.090089   \n",
      "cole_genero_MASCULINO               0.214212   -0.029341   -0.091624   \n",
      "cole_genero_MIXTO                   0.068173   -0.256020   -0.235703   \n",
      "cole_jornada_MAÑANA                -0.274890    0.161810   -0.670573   \n",
      "cole_jornada_NOCHE                 -0.148564   -0.116389   -0.089218   \n",
      "cole_jornada_SABATINA              -0.001037   -0.886829   -0.039231   \n",
      "cole_jornada_TARDE                  0.082848   -0.214153    0.272492   \n",
      "cole_jornada_UNICA                 -0.138003    0.299864   -0.454493   \n",
      "estu_genero_masculino               0.072116    0.013632   -0.082179   \n",
      "pais_nacionalidad_reside           -0.139120    0.200891    0.231196   \n",
      "fami_estratovivienda_Estrato 2     -0.019904   -0.037112    0.495306   \n",
      "fami_estratovivienda_Estrato 3      0.125308   -0.160357   -0.369134   \n",
      "fami_estratovivienda_Estrato 4      0.143947    0.217010   -0.372103   \n",
      "fami_estratovivienda_Estrato 5      0.197751    0.161557   -0.311051   \n",
      "fami_estratovivienda_Estrato 6      0.048657    0.030513    0.020501   \n",
      "fami_estratovivienda_Sin Estrato   -0.007465    0.314770    0.424103   \n",
      "desemp_ingles_A-                    1.082291    0.327220   -0.540970   \n",
      "desemp_ingles_A1                   -1.233236   -0.630525    0.514685   \n",
      "desemp_ingles_A2                    0.048007    0.116919    0.146808   \n",
      "desemp_ingles_B+                   -0.962489   -0.102116    0.176335   \n",
      "desemp_ingles_B1                   -0.516910   -0.031324    0.050317   \n",
      "\n",
      "                                  neurona_62  neurona_63  neurona_64  \n",
      "cole_bilingue                       0.133989    0.172110   -0.089902  \n",
      "cole_naturaleza_oficial            -0.085600    0.194888    0.284262  \n",
      "cole_sede_principal                 0.008628   -0.168342   -0.283837  \n",
      "estu_privado_libertad              -0.033559   -0.045793    0.211812  \n",
      "fami_personashogar                  0.000807    0.009448   -0.017898  \n",
      "fami_tieneautomovil                -0.056482   -0.065886   -0.043568  \n",
      "fami_tienecomputador                0.038800    0.346032   -0.028313  \n",
      "fami_tieneinternet                 -0.177639   -0.065044    0.014379  \n",
      "punt_ingles                         0.019762    0.053404    0.037596  \n",
      "punt_matematicas                    0.211523    0.089090    0.108332  \n",
      "punt_sociales_ciudadanas            0.203265    0.077590    0.120940  \n",
      "punt_c_naturales                    0.249306    0.050374    0.046445  \n",
      "punt_lectura_critica                0.234194    0.098215    0.037167  \n",
      "cole_area_ubicacion_URBANO          0.053879   -0.066192   -0.238846  \n",
      "cole_calendario_A                   0.097099    0.003887    0.468507  \n",
      "cole_caracter_NO APLICA            -0.224559   -0.797749   -0.092488  \n",
      "cole_caracter_TÉCNICO              -0.199011   -0.266480    0.212505  \n",
      "cole_caracter_TÉCNICO/ACADÉMICO     0.035564   -0.362610   -0.093787  \n",
      "cole_genero_MASCULINO               0.095131    0.203191   -0.295632  \n",
      "cole_genero_MIXTO                  -0.097981    0.424249    0.597494  \n",
      "cole_jornada_MAÑANA                 0.174461    0.049053    0.232876  \n",
      "cole_jornada_NOCHE                 -0.269492    0.031530    0.159457  \n",
      "cole_jornada_SABATINA              -0.804870    0.169347    0.222859  \n",
      "cole_jornada_TARDE                 -0.342722    0.067757   -0.130311  \n",
      "cole_jornada_UNICA                  0.527169   -0.711614   -0.229415  \n",
      "estu_genero_masculino              -0.142799    0.009751    0.109250  \n",
      "pais_nacionalidad_reside            0.032197   -0.121074    0.031456  \n",
      "fami_estratovivienda_Estrato 2     -0.164384   -0.095802    0.258217  \n",
      "fami_estratovivienda_Estrato 3     -0.124242    0.147123   -0.007840  \n",
      "fami_estratovivienda_Estrato 4     -0.044090    0.090687    0.037403  \n",
      "fami_estratovivienda_Estrato 5      0.236810   -0.358533   -0.678325  \n",
      "fami_estratovivienda_Estrato 6      0.267399   -0.248114   -0.750525  \n",
      "fami_estratovivienda_Sin Estrato   -0.305613   -0.641574   -0.737202  \n",
      "desemp_ingles_A-                   -0.620265   -0.433301    0.492944  \n",
      "desemp_ingles_A1                    0.493363    0.365807   -0.663100  \n",
      "desemp_ingles_A2                    0.387097    0.218464   -0.318909  \n",
      "desemp_ingles_B+                    0.204921   -0.298840   -0.302435  \n",
      "desemp_ingles_B1                    0.026455    0.511700   -0.487677  \n",
      "\n",
      "[38 rows x 64 columns]\n"
     ]
    }
   ],
   "source": [
    "# Mostrar betas de la regresión para cada variable\n",
    "betas = model1.get_weights()\n",
    "betas_df = pd.DataFrame(betas[0], index=X.columns, columns=[f'neurona_{i+1}' for i in range(64)])\n",
    "print(betas_df)\n",
    "\n"
   ]
  }
 ],
 "metadata": {
  "kernelspec": {
   "display_name": "Python 3",
   "language": "python",
   "name": "python3"
  },
  "language_info": {
   "codemirror_mode": {
    "name": "ipython",
    "version": 3
   },
   "file_extension": ".py",
   "mimetype": "text/x-python",
   "name": "python",
   "nbconvert_exporter": "python",
   "pygments_lexer": "ipython3",
   "version": "3.11.9"
  }
 },
 "nbformat": 4,
 "nbformat_minor": 2
}
