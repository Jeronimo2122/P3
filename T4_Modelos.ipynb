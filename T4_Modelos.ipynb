{
 "cells": [
  {
   "cell_type": "markdown",
   "metadata": {},
   "source": [
    "## Analitica Computacional para la toma de Decisiones\n",
    "## Proyecto 3 - AnaLítica de resultados Saber 11\n",
    "Carlos Gomez - 202111593\n",
    "<br>\n",
    "Jeronimo Vargas - 202113305\n",
    "<br>\n",
    "Juan Esteban Lopez - 202021417\n",
    "<br>"
   ]
  },
  {
   "cell_type": "code",
   "execution_count": 2,
   "metadata": {},
   "outputs": [],
   "source": [
    "# Importar librerias\n",
    "\n",
    "import numpy as np\n",
    "import pandas as pd\n",
    "from sklearn.model_selection import train_test_split\n",
    "from sklearn.preprocessing import StandardScaler, MinMaxScaler\n",
    "from tensorflow.keras.models import Sequential\n",
    "from tensorflow.keras.layers import Dense\n",
    "from tensorflow.keras.optimizers import Adam\n",
    "from sklearn.metrics import mean_squared_error, r2_score\n",
    "\n",
    "# Importar el dataset\n",
    "df = pd.read_csv(\"DF_FINAL.csv\")\n",
    "\n",
    "# Definir variables independientes (X) y dependiente (y)\n",
    "X = df.drop(columns=['punt_global', 'punt_ingles', 'punt_matematicas', 'punt_sociales_ciudadanas', 'punt_c_naturales', 'punt_lectura_critica'])  # Variables dependientes\n",
    "y = df['punt_global']  # Variable objetivo\n",
    "\n",
    "scaler = StandardScaler()\n",
    "X_scaled = scaler.fit_transform(X)\n",
    "\n",
    "# Dividir los datos en entrenamiento y prueba\n",
    "X_train, X_test, y_train, y_test = train_test_split(X_scaled, y, test_size=0.2, random_state=42)"
   ]
  },
  {
   "cell_type": "markdown",
   "metadata": {},
   "source": [
    "## Modelo 1: Red Neuronal Simple (Modelo Base)\n",
    "Este modelo será una red neuronal sencilla con una capa de entrada, una capa oculta y una capa de salida. Es un modelo básico para observar cómo funciona la regresión con redes neuronales en este conjunto de datos.\n",
    "\n",
    "### Características del Modelo:\n",
    "- Capa de entrada: 64 nodos.\n",
    "- Capa oculta: 32 nodos con función de activación ReLU.\n",
    "- Capa de salida: 1 nodo sin activación (regresión).\n",
    "- Optimización: Adam, que es adecuado para este tipo de modelos.\n",
    "- Función de pérdida: MSE (Mean Squared Error), común en tareas de regresión."
   ]
  },
  {
   "cell_type": "code",
   "execution_count": 3,
   "metadata": {},
   "outputs": [
    {
     "name": "stderr",
     "output_type": "stream",
     "text": [
      "c:\\Users\\USUARIO\\AppData\\Local\\Programs\\Python\\Python311\\Lib\\site-packages\\keras\\src\\layers\\core\\dense.py:87: UserWarning: Do not pass an `input_shape`/`input_dim` argument to a layer. When using Sequential models, prefer using an `Input(shape)` object as the first layer in the model instead.\n",
      "  super().__init__(activity_regularizer=activity_regularizer, **kwargs)\n"
     ]
    },
    {
     "name": "stdout",
     "output_type": "stream",
     "text": [
      "Epoch 1/10\n",
      "\u001b[1m1845/1845\u001b[0m \u001b[32m━━━━━━━━━━━━━━━━━━━━\u001b[0m\u001b[37m\u001b[0m \u001b[1m7s\u001b[0m 3ms/step - loss: 16579.3633 - val_loss: 1010.8585\n",
      "Epoch 2/10\n",
      "\u001b[1m1845/1845\u001b[0m \u001b[32m━━━━━━━━━━━━━━━━━━━━\u001b[0m\u001b[37m\u001b[0m \u001b[1m7s\u001b[0m 4ms/step - loss: 981.0559 - val_loss: 968.1902\n",
      "Epoch 3/10\n",
      "\u001b[1m1845/1845\u001b[0m \u001b[32m━━━━━━━━━━━━━━━━━━━━\u001b[0m\u001b[37m\u001b[0m \u001b[1m7s\u001b[0m 4ms/step - loss: 949.5825 - val_loss: 960.4614\n",
      "Epoch 4/10\n",
      "\u001b[1m1845/1845\u001b[0m \u001b[32m━━━━━━━━━━━━━━━━━━━━\u001b[0m\u001b[37m\u001b[0m \u001b[1m9s\u001b[0m 3ms/step - loss: 955.6055 - val_loss: 959.7155\n",
      "Epoch 5/10\n",
      "\u001b[1m1845/1845\u001b[0m \u001b[32m━━━━━━━━━━━━━━━━━━━━\u001b[0m\u001b[37m\u001b[0m \u001b[1m6s\u001b[0m 3ms/step - loss: 944.4269 - val_loss: 955.0933\n",
      "Epoch 6/10\n",
      "\u001b[1m1845/1845\u001b[0m \u001b[32m━━━━━━━━━━━━━━━━━━━━\u001b[0m\u001b[37m\u001b[0m \u001b[1m5s\u001b[0m 3ms/step - loss: 941.3190 - val_loss: 952.1250\n",
      "Epoch 7/10\n",
      "\u001b[1m1845/1845\u001b[0m \u001b[32m━━━━━━━━━━━━━━━━━━━━\u001b[0m\u001b[37m\u001b[0m \u001b[1m6s\u001b[0m 3ms/step - loss: 928.7426 - val_loss: 946.5300\n",
      "Epoch 8/10\n",
      "\u001b[1m1845/1845\u001b[0m \u001b[32m━━━━━━━━━━━━━━━━━━━━\u001b[0m\u001b[37m\u001b[0m \u001b[1m10s\u001b[0m 3ms/step - loss: 934.3139 - val_loss: 953.4943\n",
      "Epoch 9/10\n",
      "\u001b[1m1845/1845\u001b[0m \u001b[32m━━━━━━━━━━━━━━━━━━━━\u001b[0m\u001b[37m\u001b[0m \u001b[1m6s\u001b[0m 3ms/step - loss: 939.7647 - val_loss: 969.6643\n",
      "Epoch 10/10\n",
      "\u001b[1m1845/1845\u001b[0m \u001b[32m━━━━━━━━━━━━━━━━━━━━\u001b[0m\u001b[37m\u001b[0m \u001b[1m6s\u001b[0m 3ms/step - loss: 943.3024 - val_loss: 945.8460\n",
      "\u001b[1m462/462\u001b[0m \u001b[32m━━━━━━━━━━━━━━━━━━━━\u001b[0m\u001b[37m\u001b[0m \u001b[1m1s\u001b[0m 3ms/step\n",
      "Modelo 1 - MSE: 945.8457334059401, R^2: 0.48675285275338975\n"
     ]
    }
   ],
   "source": [
    "# Crear el modelo\n",
    "model1 = Sequential()\n",
    "model1.add(Dense(64, input_dim=X_train.shape[1], activation='relu'))\n",
    "model1.add(Dense(32, activation='relu'))\n",
    "model1.add(Dense(1))  # Capa de salida\n",
    "\n",
    "# Compilar el modelo\n",
    "model1.compile(optimizer=Adam(), loss='mean_squared_error')\n",
    "\n",
    "# Entrenar el modelo\n",
    "history1 = model1.fit(X_train, y_train, epochs=10, batch_size=32, validation_data=(X_test, y_test))\n",
    "\n",
    "# Evaluación\n",
    "y_pred1 = model1.predict(X_test)\n",
    "mse1 = mean_squared_error(y_test, y_pred1)\n",
    "r2_1 = r2_score(y_test, y_pred1)\n",
    "\n",
    "print(f\"Modelo 1 - MSE: {mse1}, R^2: {r2_1}\")\n"
   ]
  },
  {
   "cell_type": "markdown",
   "metadata": {},
   "source": [
    "## Modelo 2: Red Neuronal Profunda\n",
    "Este modelo tendrá más capas ocultas para permitir la captura de patrones más complejos en los datos. La idea es que una mayor profundidad permita al modelo aprender representaciones más abstractas de los datos.\n",
    "\n",
    "### Características del Modelo:\n",
    "- Capa de entrada: 128 nodos.\n",
    "- Capas ocultas: 3 capas, cada una con 64 nodos y función de activación ReLU.\n",
    "- Capa de salida: 1 nodo sin activación.\n",
    "- Optimización: Adam con un learning rate ajustado.\n",
    "- Función de pérdida: MSE."
   ]
  },
  {
   "cell_type": "code",
   "execution_count": 4,
   "metadata": {},
   "outputs": [
    {
     "name": "stdout",
     "output_type": "stream",
     "text": [
      "Epoch 1/10\n"
     ]
    },
    {
     "name": "stderr",
     "output_type": "stream",
     "text": [
      "c:\\Users\\USUARIO\\AppData\\Local\\Programs\\Python\\Python311\\Lib\\site-packages\\keras\\src\\layers\\core\\dense.py:87: UserWarning: Do not pass an `input_shape`/`input_dim` argument to a layer. When using Sequential models, prefer using an `Input(shape)` object as the first layer in the model instead.\n",
      "  super().__init__(activity_regularizer=activity_regularizer, **kwargs)\n"
     ]
    },
    {
     "name": "stdout",
     "output_type": "stream",
     "text": [
      "\u001b[1m1845/1845\u001b[0m \u001b[32m━━━━━━━━━━━━━━━━━━━━\u001b[0m\u001b[37m\u001b[0m \u001b[1m7s\u001b[0m 3ms/step - loss: 8317.2217 - val_loss: 972.1233\n",
      "Epoch 2/10\n",
      "\u001b[1m1845/1845\u001b[0m \u001b[32m━━━━━━━━━━━━━━━━━━━━\u001b[0m\u001b[37m\u001b[0m \u001b[1m5s\u001b[0m 3ms/step - loss: 975.9471 - val_loss: 967.3508\n",
      "Epoch 3/10\n",
      "\u001b[1m1845/1845\u001b[0m \u001b[32m━━━━━━━━━━━━━━━━━━━━\u001b[0m\u001b[37m\u001b[0m \u001b[1m11s\u001b[0m 3ms/step - loss: 975.2924 - val_loss: 969.9354\n",
      "Epoch 4/10\n",
      "\u001b[1m1845/1845\u001b[0m \u001b[32m━━━━━━━━━━━━━━━━━━━━\u001b[0m\u001b[37m\u001b[0m \u001b[1m5s\u001b[0m 3ms/step - loss: 956.7794 - val_loss: 965.3559\n",
      "Epoch 5/10\n",
      "\u001b[1m1845/1845\u001b[0m \u001b[32m━━━━━━━━━━━━━━━━━━━━\u001b[0m\u001b[37m\u001b[0m \u001b[1m5s\u001b[0m 3ms/step - loss: 948.6843 - val_loss: 968.1899\n",
      "Epoch 6/10\n",
      "\u001b[1m1845/1845\u001b[0m \u001b[32m━━━━━━━━━━━━━━━━━━━━\u001b[0m\u001b[37m\u001b[0m \u001b[1m10s\u001b[0m 3ms/step - loss: 948.9883 - val_loss: 979.7285\n",
      "Epoch 7/10\n",
      "\u001b[1m1845/1845\u001b[0m \u001b[32m━━━━━━━━━━━━━━━━━━━━\u001b[0m\u001b[37m\u001b[0m \u001b[1m7s\u001b[0m 3ms/step - loss: 944.3412 - val_loss: 972.6603\n",
      "Epoch 8/10\n",
      "\u001b[1m1845/1845\u001b[0m \u001b[32m━━━━━━━━━━━━━━━━━━━━\u001b[0m\u001b[37m\u001b[0m \u001b[1m11s\u001b[0m 4ms/step - loss: 946.8663 - val_loss: 976.5723\n",
      "Epoch 9/10\n",
      "\u001b[1m1845/1845\u001b[0m \u001b[32m━━━━━━━━━━━━━━━━━━━━\u001b[0m\u001b[37m\u001b[0m \u001b[1m6s\u001b[0m 3ms/step - loss: 943.9833 - val_loss: 960.5666\n",
      "Epoch 10/10\n",
      "\u001b[1m1845/1845\u001b[0m \u001b[32m━━━━━━━━━━━━━━━━━━━━\u001b[0m\u001b[37m\u001b[0m \u001b[1m7s\u001b[0m 4ms/step - loss: 943.8750 - val_loss: 952.7434\n",
      "\u001b[1m462/462\u001b[0m \u001b[32m━━━━━━━━━━━━━━━━━━━━\u001b[0m\u001b[37m\u001b[0m \u001b[1m1s\u001b[0m 2ms/step\n",
      "Modelo 2 - MSE: 952.7437092097936, R^2: 0.4830097831617396\n"
     ]
    }
   ],
   "source": [
    "# Crear el modelo profundo\n",
    "model2 = Sequential()\n",
    "model2.add(Dense(128, input_dim=X_train.shape[1], activation='relu'))  # Capa de entrada y oculta\n",
    "model2.add(Dense(64, activation='relu'))  # Capa oculta\n",
    "model2.add(Dense(64, activation='relu'))  # Capa oculta\n",
    "model2.add(Dense(1))  # Capa de salida\n",
    "\n",
    "# Compilar el modelo\n",
    "model2.compile(optimizer=Adam(), loss='mean_squared_error')\n",
    "\n",
    "# Entrenar el modelo\n",
    "history2 = model2.fit(X_train, y_train, epochs=10, batch_size=32, validation_data=(X_test, y_test))\n",
    "\n",
    "# Evaluación\n",
    "y_pred2 = model2.predict(X_test)\n",
    "mse2 = mean_squared_error(y_test, y_pred2)\n",
    "r2_2 = r2_score(y_test, y_pred2)\n",
    "\n",
    "print(f\"Modelo 2 - MSE: {mse2}, R^2: {r2_2}\")"
   ]
  },
  {
   "cell_type": "markdown",
   "metadata": {},
   "source": [
    "## Modelo 3: Red Neuronal con Dropout y Regularización L2\n",
    "Este modelo incluye Dropout y regularización L2 para prevenir el sobreajuste, lo que es útil cuando tenemos un conjunto de datos más pequeño o con mucha varianza. El Dropout ayuda a regularizar la red, mientras que la regularización L2 penaliza los pesos grandes, promoviendo una red más generalizable.\n",
    "\n",
    "### Características del Modelo:\n",
    "- Capa de entrada: 64 nodos.\n",
    "- Capas ocultas: 2 capas, cada una con 128 nodos y función de activación ReLU.\n",
    "- Capa de salida: 1 nodo sin activación.\n",
    "- Optimización: Adam con learning rate decay para una mejor convergencia.\n",
    "- Función de pérdida: MSE.\n",
    "- Regularización: Dropout (0.2) y L2 regularization"
   ]
  },
  {
   "cell_type": "code",
   "execution_count": 5,
   "metadata": {},
   "outputs": [
    {
     "name": "stdout",
     "output_type": "stream",
     "text": [
      "Epoch 1/10\n"
     ]
    },
    {
     "name": "stderr",
     "output_type": "stream",
     "text": [
      "c:\\Users\\USUARIO\\AppData\\Local\\Programs\\Python\\Python311\\Lib\\site-packages\\keras\\src\\layers\\core\\dense.py:87: UserWarning: Do not pass an `input_shape`/`input_dim` argument to a layer. When using Sequential models, prefer using an `Input(shape)` object as the first layer in the model instead.\n",
      "  super().__init__(activity_regularizer=activity_regularizer, **kwargs)\n"
     ]
    },
    {
     "name": "stdout",
     "output_type": "stream",
     "text": [
      "\u001b[1m1845/1845\u001b[0m \u001b[32m━━━━━━━━━━━━━━━━━━━━\u001b[0m\u001b[37m\u001b[0m \u001b[1m9s\u001b[0m 4ms/step - loss: 11396.5225 - val_loss: 1000.7261\n",
      "Epoch 2/10\n",
      "\u001b[1m1845/1845\u001b[0m \u001b[32m━━━━━━━━━━━━━━━━━━━━\u001b[0m\u001b[37m\u001b[0m \u001b[1m6s\u001b[0m 3ms/step - loss: 1400.0055 - val_loss: 980.9863\n",
      "Epoch 3/10\n",
      "\u001b[1m1845/1845\u001b[0m \u001b[32m━━━━━━━━━━━━━━━━━━━━\u001b[0m\u001b[37m\u001b[0m \u001b[1m10s\u001b[0m 3ms/step - loss: 1361.7158 - val_loss: 967.5888\n",
      "Epoch 4/10\n",
      "\u001b[1m1845/1845\u001b[0m \u001b[32m━━━━━━━━━━━━━━━━━━━━\u001b[0m\u001b[37m\u001b[0m \u001b[1m10s\u001b[0m 3ms/step - loss: 1354.4344 - val_loss: 1014.9318\n",
      "Epoch 5/10\n",
      "\u001b[1m1845/1845\u001b[0m \u001b[32m━━━━━━━━━━━━━━━━━━━━\u001b[0m\u001b[37m\u001b[0m \u001b[1m6s\u001b[0m 3ms/step - loss: 1324.2531 - val_loss: 972.7667\n",
      "Epoch 6/10\n",
      "\u001b[1m1845/1845\u001b[0m \u001b[32m━━━━━━━━━━━━━━━━━━━━\u001b[0m\u001b[37m\u001b[0m \u001b[1m10s\u001b[0m 3ms/step - loss: 1309.2238 - val_loss: 993.2419\n",
      "Epoch 7/10\n",
      "\u001b[1m1845/1845\u001b[0m \u001b[32m━━━━━━━━━━━━━━━━━━━━\u001b[0m\u001b[37m\u001b[0m \u001b[1m11s\u001b[0m 3ms/step - loss: 1294.9639 - val_loss: 985.7110\n",
      "Epoch 8/10\n",
      "\u001b[1m1845/1845\u001b[0m \u001b[32m━━━━━━━━━━━━━━━━━━━━\u001b[0m\u001b[37m\u001b[0m \u001b[1m6s\u001b[0m 3ms/step - loss: 1281.4702 - val_loss: 961.9034\n",
      "Epoch 9/10\n",
      "\u001b[1m1845/1845\u001b[0m \u001b[32m━━━━━━━━━━━━━━━━━━━━\u001b[0m\u001b[37m\u001b[0m \u001b[1m6s\u001b[0m 3ms/step - loss: 1281.2543 - val_loss: 959.8709\n",
      "Epoch 10/10\n",
      "\u001b[1m1845/1845\u001b[0m \u001b[32m━━━━━━━━━━━━━━━━━━━━\u001b[0m\u001b[37m\u001b[0m \u001b[1m6s\u001b[0m 3ms/step - loss: 1245.5702 - val_loss: 955.2136\n",
      "\u001b[1m462/462\u001b[0m \u001b[32m━━━━━━━━━━━━━━━━━━━━\u001b[0m\u001b[37m\u001b[0m \u001b[1m1s\u001b[0m 1ms/step\n",
      "Modelo 3 - MSE: 951.7134030777053, R^2: 0.4835688613120218\n"
     ]
    }
   ],
   "source": [
    "from tensorflow.keras.regularizers import l2\n",
    "from tensorflow.keras.layers import Dropout\n",
    "\n",
    "# Crear el modelo con Dropout y Regularización L2\n",
    "model3 = Sequential()\n",
    "model3.add(Dense(128, input_dim=X_train.shape[1], activation='relu', kernel_regularizer=l2(0.01)))  # Capa de entrada y oculta con regularización L2\n",
    "model3.add(Dropout(0.2))  # Capa Dropout\n",
    "model3.add(Dense(128, activation='relu', kernel_regularizer=l2(0.01)))  # Capa oculta con regularización L2\n",
    "model3.add(Dropout(0.2))  # Capa Dropout\n",
    "model3.add(Dense(1))  # Capa de salida\n",
    "\n",
    "# Compilar el modelo\n",
    "model3.compile(optimizer=Adam(learning_rate=0.001), loss='mean_squared_error')\n",
    "\n",
    "# Entrenar el modelo\n",
    "history3 = model3.fit(X_train, y_train, epochs=10, batch_size=32, validation_data=(X_test, y_test))\n",
    "\n",
    "# Evaluación\n",
    "y_pred3 = model3.predict(X_test)\n",
    "mse3 = mean_squared_error(y_test, y_pred3)\n",
    "r2_3 = r2_score(y_test, y_pred3)\n",
    "\n",
    "print(f\"Modelo 3 - MSE: {mse3}, R^2: {r2_3}\")"
   ]
  },
  {
   "cell_type": "code",
   "execution_count": 6,
   "metadata": {},
   "outputs": [
    {
     "name": "stdout",
     "output_type": "stream",
     "text": [
      "Modelo 1 - MSE: 945.8457334059401, R^2: 0.48675285275338975\n",
      "Modelo 2 - MSE: 952.7437092097936, R^2: 0.4830097831617396\n",
      "Modelo 3 - MSE: 951.7134030777053, R^2: 0.4835688613120218\n"
     ]
    }
   ],
   "source": [
    "# Imprimir los MSE y R^2 de los tres modelos\n",
    "print(f\"Modelo 1 - MSE: {mse1}, R^2: {r2_1}\")\n",
    "print(f\"Modelo 2 - MSE: {mse2}, R^2: {r2_2}\")\n",
    "print(f\"Modelo 3 - MSE: {mse3}, R^2: {r2_3}\")\n"
   ]
  },
  {
   "cell_type": "markdown",
   "metadata": {},
   "source": [
    "### Deacuerdo al experimento en MLflow se puede ver como el MODELO 1 es el que mejor se ajusta y representa los datos de manera predictiva. "
   ]
  },
  {
   "cell_type": "code",
   "execution_count": 7,
   "metadata": {},
   "outputs": [
    {
     "name": "stderr",
     "output_type": "stream",
     "text": [
      "WARNING:absl:You are saving your model as an HDF5 file via `model.save()` or `keras.saving.save_model(model)`. This file format is considered legacy. We recommend using instead the native Keras format, e.g. `model.save('my_model.keras')` or `keras.saving.save_model(model, 'my_model.keras')`. \n"
     ]
    },
    {
     "name": "stderr",
     "output_type": "stream",
     "text": [
      "WARNING:absl:You are saving your model as an HDF5 file via `model.save()` or `keras.saving.save_model(model)`. This file format is considered legacy. We recommend using instead the native Keras format, e.g. `model.save('my_model.keras')` or `keras.saving.save_model(model, 'my_model.keras')`. \n",
      "WARNING:absl:You are saving your model as an HDF5 file via `model.save()` or `keras.saving.save_model(model)`. This file format is considered legacy. We recommend using instead the native Keras format, e.g. `model.save('my_model.keras')` or `keras.saving.save_model(model, 'my_model.keras')`. \n"
     ]
    },
    {
     "data": {
      "text/plain": [
       "['scaler.pkl']"
      ]
     },
     "execution_count": 7,
     "metadata": {},
     "output_type": "execute_result"
    }
   ],
   "source": [
    "# Guardar los modelos\n",
    "model1.save(\"model1.h5\")\n",
    "model2.save(\"model2.h5\")\n",
    "model3.save(\"model3.h5\")\n",
    "\n",
    "# Guardar el scaler\n",
    "import joblib\n",
    "joblib.dump(scaler, \"scaler.pkl\")"
   ]
  },
  {
   "cell_type": "markdown",
   "metadata": {},
   "source": [
    "### El Modelo 2 es el mejor, ya que tiene el MSE más bajo y el R² más alto, lo que lo convierte en el modelo más preciso y con el mejor poder explicativo de las tres opciones."
   ]
  },
  {
   "cell_type": "code",
   "execution_count": null,
   "metadata": {},
   "outputs": [
    {
     "name": "stderr",
     "output_type": "stream",
     "text": [
      "WARNING:absl:You are saving your model as an HDF5 file via `model.save()` or `keras.saving.save_model(model)`. This file format is considered legacy. We recommend using instead the native Keras format, e.g. `model.save('my_model.keras')` or `keras.saving.save_model(model, 'my_model.keras')`. \n"
     ]
    },
    {
     "name": "stdout",
     "output_type": "stream",
     "text": [
      "33\n"
     ]
    }
   ],
   "source": [
    "# Guardar modelo 1\n",
    "model1.save(\"modelo.h5\")\n",
    "\n",
    "# Guardar el scaler\n",
    "import joblib # type: ignore\n",
    "joblib.dump(scaler, \"scaler.pkl\")\n",
    "\n",
    "print(X_train.shape[1])"
   ]
  },
  {
   "cell_type": "code",
   "execution_count": 9,
   "metadata": {},
   "outputs": [
    {
     "name": "stderr",
     "output_type": "stream",
     "text": [
      "WARNING:absl:Compiled the loaded model, but the compiled metrics have yet to be built. `model.compile_metrics` will be empty until you train or evaluate the model.\n"
     ]
    },
    {
     "name": "stdout",
     "output_type": "stream",
     "text": [
      "\u001b[1m1845/1845\u001b[0m \u001b[32m━━━━━━━━━━━━━━━━━━━━\u001b[0m\u001b[37m\u001b[0m \u001b[1m4s\u001b[0m 2ms/step\n",
      "[[195.59827]\n",
      " [263.99457]\n",
      " [228.74567]\n",
      " ...\n",
      " [250.33537]\n",
      " [215.75584]\n",
      " [214.29854]]\n",
      "[-0.10009234  0.37292239  0.17264706  0.         -0.01411036 -0.3831534\n",
      " -0.82297071 -0.80107489  0.50039379  0.05806808 -0.04587785 -0.40120953\n",
      "  0.97933193 -0.07021061  0.16877978 -1.14252518  3.14243369 -0.14472543\n",
      " -0.46027491 -0.28428063 -0.91087475  0.         -0.47338647 -0.37268662\n",
      " -0.19117403 -0.11504677 -0.1026842  -0.20031687  0.7392064  -0.57951478\n",
      " -0.26369915 -0.0951407  -0.16958486]\n",
      "\u001b[1m1/1\u001b[0m \u001b[32m━━━━━━━━━━━━━━━━━━━━\u001b[0m\u001b[37m\u001b[0m \u001b[1m0s\u001b[0m 54ms/step\n",
      "[[259.8073]]\n"
     ]
    },
    {
     "name": "stderr",
     "output_type": "stream",
     "text": [
      "c:\\Users\\USUARIO\\AppData\\Local\\Programs\\Python\\Python311\\Lib\\site-packages\\sklearn\\base.py:493: UserWarning: X does not have valid feature names, but StandardScaler was fitted with feature names\n",
      "  warnings.warn(\n"
     ]
    }
   ],
   "source": [
    "# Importar modelo y scaler\n",
    "from tensorflow.keras.models import load_model\n",
    "import joblib\n",
    "\n",
    "model = load_model(\"modelo.h5\")\n",
    "scaler = joblib.load(\"scaler.pkl\")\n",
    "\n",
    "# PRedecir con el modelo\n",
    "\n",
    "y_pred = model.predict(X_train)\n",
    "print(y_pred)\n",
    "\n",
    "print(X_train[0])\n",
    "\n",
    "# Predecir con datos nuevos 0,1,1,0,4.0,1,1,1,51.0,45.0,55.0,49.0,45.0,1,1,0,1,0,0,1,1,0,0,0,0,1,1,0,1,0,0,0,0,0,1,0,0,0\n",
    "X_new = np.array([[0,1,1,0,4.0,1,1,1,1,1,0,1,0,0,1,1,0,0,0,0,1,1,0,1,0,0,0,0,0,1,0,0,0]])\n",
    "X_new_scaled = scaler.transform(X_new)\n",
    "y_pred_new = model.predict(X_new_scaled)\n",
    "print(y_pred_new)\n"
   ]
  },
  {
   "cell_type": "code",
   "execution_count": 10,
   "metadata": {},
   "outputs": [
    {
     "name": "stdout",
     "output_type": "stream",
     "text": [
      "                                  neurona_1  neurona_2  neurona_3  neurona_4  \\\n",
      "cole_bilingue                      0.222198  -0.579562   0.082094  -0.685627   \n",
      "cole_naturaleza_oficial           -0.364331   0.141860  -0.135647  -0.110281   \n",
      "cole_sede_principal                0.274765  -0.178278   0.415904   0.297317   \n",
      "estu_privado_libertad              0.194332  -0.097285   0.176880   0.075587   \n",
      "fami_personashogar                -0.037830   0.010978  -0.005116   0.044960   \n",
      "fami_tieneautomovil               -0.292224  -0.209742  -0.293550  -0.316397   \n",
      "fami_tienecomputador              -0.106573   0.213233  -0.383523  -0.303033   \n",
      "fami_tieneinternet                -0.488568  -0.287559  -0.228537  -0.343666   \n",
      "cole_area_ubicacion_URBANO        -0.169371  -0.222688   0.317905  -0.010656   \n",
      "cole_calendario_A                  0.260331   0.404325   0.071226   0.589769   \n",
      "cole_caracter_NO APLICA           -0.578733   0.026889  -0.579607   0.096268   \n",
      "cole_caracter_TÉCNICO              0.197481   0.405933   0.209587  -0.422707   \n",
      "cole_caracter_TÉCNICO/ACADÉMICO   -0.160434  -0.288631   0.021017   0.358151   \n",
      "cole_genero_MASCULINO             -0.365241  -0.528468  -0.162264  -0.618548   \n",
      "cole_genero_MIXTO                 -0.279977   0.695566  -0.080258  -0.230949   \n",
      "cole_jornada_MAÑANA                0.290861   0.366839   0.273531  -0.297945   \n",
      "cole_jornada_NOCHE                -0.077955  -0.767994  -0.588461   0.309755   \n",
      "cole_jornada_SABATINA             -0.037063  -0.082501  -0.389222  -0.643827   \n",
      "cole_jornada_TARDE                -0.421076   0.512323   0.242041  -0.147663   \n",
      "cole_jornada_UNICA                -0.854815   0.024307  -0.582887   0.464954   \n",
      "estu_genero_masculino             -0.405667   0.118689  -0.222899   0.203041   \n",
      "pais_nacionalidad_reside          -0.001603  -0.183980  -0.023735  -0.013663   \n",
      "fami_estratovivienda_Estrato 2     0.539260  -0.332372  -0.073081  -0.263088   \n",
      "fami_estratovivienda_Estrato 3    -0.539515  -0.538041   0.442895  -0.220490   \n",
      "fami_estratovivienda_Estrato 4    -0.045224   0.164235  -0.383207   0.024121   \n",
      "fami_estratovivienda_Estrato 5    -0.124458  -0.425040  -0.196293  -0.141614   \n",
      "fami_estratovivienda_Estrato 6     0.087797  -0.512697  -0.015841   0.050221   \n",
      "fami_estratovivienda_Sin Estrato   0.398969   0.139901  -0.235216   0.226028   \n",
      "desemp_ingles_A-                   0.146016  -0.464064   0.153274   0.701297   \n",
      "desemp_ingles_A1                   0.454370  -0.010105   0.294724  -0.585052   \n",
      "desemp_ingles_A2                  -0.673627   0.465442  -0.224047   0.389362   \n",
      "desemp_ingles_B+                   0.022569   0.186467  -0.065117  -0.684131   \n",
      "desemp_ingles_B1                   0.152178   0.315136   0.214258  -0.251633   \n",
      "\n",
      "                                  neurona_5  neurona_6  neurona_7  neurona_8  \\\n",
      "cole_bilingue                      0.305532  -0.712819  -0.612670  -0.033855   \n",
      "cole_naturaleza_oficial            0.419048   0.263801   0.272062  -0.349479   \n",
      "cole_sede_principal               -0.030501   0.128244   0.171065   0.592792   \n",
      "estu_privado_libertad             -0.119311  -0.005686   0.002885   0.139868   \n",
      "fami_personashogar                -0.064410  -0.023676   0.028308   0.011602   \n",
      "fami_tieneautomovil               -0.116808  -0.232512  -0.285781   0.033360   \n",
      "fami_tienecomputador               0.291462  -0.382343   0.277374   0.542927   \n",
      "fami_tieneinternet                 0.105479   0.157076   0.210936  -0.144706   \n",
      "cole_area_ubicacion_URBANO         0.230474  -0.144483  -0.389601   0.237026   \n",
      "cole_calendario_A                 -0.090250   0.408486   0.585236  -0.033968   \n",
      "cole_caracter_NO APLICA           -0.106715  -0.529968  -0.539233   0.165623   \n",
      "cole_caracter_TÉCNICO             -0.491068  -0.364473   0.041621  -0.473910   \n",
      "cole_caracter_TÉCNICO/ACADÉMICO    0.498550   0.324145   0.123952   0.113194   \n",
      "cole_genero_MASCULINO              0.043198  -0.196213   0.211591   0.133402   \n",
      "cole_genero_MIXTO                 -0.022982   0.023415   0.043127  -0.213749   \n",
      "cole_jornada_MAÑANA               -0.416864  -0.502971   0.216912  -0.337037   \n",
      "cole_jornada_NOCHE                -0.314485  -0.019252  -0.450621   0.323074   \n",
      "cole_jornada_SABATINA             -0.042532  -0.670375  -0.342850   0.272197   \n",
      "cole_jornada_TARDE                 0.112340   0.326718  -0.101023   0.090466   \n",
      "cole_jornada_UNICA                 0.362630   0.401910   0.354728  -0.011233   \n",
      "estu_genero_masculino              0.071799  -0.096396   0.434868  -0.401405   \n",
      "pais_nacionalidad_reside          -0.110068   0.047976   0.214628   0.125246   \n",
      "fami_estratovivienda_Estrato 2     0.297615   0.166150   0.381518   0.063928   \n",
      "fami_estratovivienda_Estrato 3    -0.191552  -0.060900  -0.108468  -0.151535   \n",
      "fami_estratovivienda_Estrato 4     0.202724   0.018232   0.191655   0.391489   \n",
      "fami_estratovivienda_Estrato 5    -0.242262  -0.628209   0.050766  -0.180323   \n",
      "fami_estratovivienda_Estrato 6    -0.374540  -0.273981   0.026286   0.229276   \n",
      "fami_estratovivienda_Sin Estrato   0.060733   0.225786  -0.293548  -0.606049   \n",
      "desemp_ingles_A-                  -0.437341  -0.384041  -0.417415  -0.458547   \n",
      "desemp_ingles_A1                   0.540306   0.397408   0.583669   0.626220   \n",
      "desemp_ingles_A2                   0.484515  -0.328163   0.061284   0.182119   \n",
      "desemp_ingles_B+                   0.123554  -0.719199   0.328106  -0.198918   \n",
      "desemp_ingles_B1                   0.140685   0.319458   0.143544   0.312488   \n",
      "\n",
      "                                  neurona_9  neurona_10  ...  neurona_55  \\\n",
      "cole_bilingue                     -0.635731   -0.729970  ...   -0.742070   \n",
      "cole_naturaleza_oficial            0.234261   -0.063688  ...   -0.281429   \n",
      "cole_sede_principal               -0.335391   -0.150615  ...   -0.050629   \n",
      "estu_privado_libertad             -0.248095   -0.067519  ...   -0.024162   \n",
      "fami_personashogar                -0.061206    0.082971  ...   -0.090688   \n",
      "fami_tieneautomovil               -0.315524   -0.004973  ...    0.151500   \n",
      "fami_tienecomputador              -0.008788    0.182029  ...    0.243416   \n",
      "fami_tieneinternet                 0.231988    0.487860  ...   -0.300807   \n",
      "cole_area_ubicacion_URBANO        -0.020711   -0.352405  ...    0.215186   \n",
      "cole_calendario_A                  0.713139    0.707708  ...    0.732934   \n",
      "cole_caracter_NO APLICA           -0.495384    0.102978  ...   -0.216244   \n",
      "cole_caracter_TÉCNICO             -0.306888   -0.511669  ...   -0.365589   \n",
      "cole_caracter_TÉCNICO/ACADÉMICO   -0.226919    0.372719  ...    0.436939   \n",
      "cole_genero_MASCULINO             -0.643978   -0.291087  ...   -0.751089   \n",
      "cole_genero_MIXTO                  0.723956    0.378181  ...    0.333608   \n",
      "cole_jornada_MAÑANA               -0.009037   -0.295603  ...   -0.220202   \n",
      "cole_jornada_NOCHE                 0.124836    0.371348  ...   -0.763281   \n",
      "cole_jornada_SABATINA             -0.668282   -0.229513  ...   -0.576711   \n",
      "cole_jornada_TARDE                 0.072093   -0.159615  ...    0.050356   \n",
      "cole_jornada_UNICA                -0.303683    0.278536  ...    0.402123   \n",
      "estu_genero_masculino              0.286834    0.407886  ...   -0.428369   \n",
      "pais_nacionalidad_reside          -0.023248   -0.213665  ...   -0.216114   \n",
      "fami_estratovivienda_Estrato 2    -0.360787    0.114066  ...   -0.002931   \n",
      "fami_estratovivienda_Estrato 3     0.080806    0.219738  ...   -0.130637   \n",
      "fami_estratovivienda_Estrato 4    -0.432611   -0.248487  ...   -0.353850   \n",
      "fami_estratovivienda_Estrato 5     0.215388    0.027126  ...   -0.060208   \n",
      "fami_estratovivienda_Estrato 6    -0.260973   -0.676300  ...   -0.511086   \n",
      "fami_estratovivienda_Sin Estrato   0.279612   -0.707525  ...    0.254502   \n",
      "desemp_ingles_A-                   0.379433    0.372980  ...   -0.509748   \n",
      "desemp_ingles_A1                  -0.370928   -0.253922  ...    0.300043   \n",
      "desemp_ingles_A2                  -0.188172    0.130892  ...   -0.079442   \n",
      "desemp_ingles_B+                   0.370703   -0.710202  ...    0.114633   \n",
      "desemp_ingles_B1                  -0.028302    0.281120  ...    0.130687   \n",
      "\n",
      "                                  neurona_56  neurona_57  neurona_58  \\\n",
      "cole_bilingue                       0.293595   -0.311188   -0.066614   \n",
      "cole_naturaleza_oficial            -0.292083    0.012949   -0.276416   \n",
      "cole_sede_principal                -0.402970    0.809155    0.759751   \n",
      "estu_privado_libertad               0.145846   -0.231339    0.231728   \n",
      "fami_personashogar                  0.149217   -0.164898    0.075416   \n",
      "fami_tieneautomovil                 0.281706    0.192693   -0.338964   \n",
      "fami_tienecomputador               -0.317965    0.020491    0.313378   \n",
      "fami_tieneinternet                  0.093603   -0.193001    0.223524   \n",
      "cole_area_ubicacion_URBANO          0.123732    0.281125    0.288127   \n",
      "cole_calendario_A                  -0.092485   -0.094628    0.071664   \n",
      "cole_caracter_NO APLICA             0.115127   -0.171065   -0.585921   \n",
      "cole_caracter_TÉCNICO               0.050745    0.146977    0.374148   \n",
      "cole_caracter_TÉCNICO/ACADÉMICO    -0.721508   -0.032114   -0.448457   \n",
      "cole_genero_MASCULINO               0.007247   -0.542924   -0.008228   \n",
      "cole_genero_MIXTO                  -0.168183    0.529205   -0.321633   \n",
      "cole_jornada_MAÑANA                -0.123273    0.128388   -0.096517   \n",
      "cole_jornada_NOCHE                 -0.506250   -0.249189   -0.098985   \n",
      "cole_jornada_SABATINA              -0.621734   -0.258982   -0.789349   \n",
      "cole_jornada_TARDE                  0.117780   -0.473081    0.395855   \n",
      "cole_jornada_UNICA                  0.117088   -0.705244   -0.402575   \n",
      "estu_genero_masculino              -0.375373    0.046374    0.305952   \n",
      "pais_nacionalidad_reside            0.121177   -0.081507    0.212207   \n",
      "fami_estratovivienda_Estrato 2     -0.025307    0.222075    0.142814   \n",
      "fami_estratovivienda_Estrato 3     -0.044061   -0.321012    0.114829   \n",
      "fami_estratovivienda_Estrato 4     -0.175101    0.332178    0.195862   \n",
      "fami_estratovivienda_Estrato 5      0.163674   -0.063103    0.054973   \n",
      "fami_estratovivienda_Estrato 6     -0.058903   -0.479178    0.057313   \n",
      "fami_estratovivienda_Sin Estrato    0.097335   -0.465933   -0.173412   \n",
      "desemp_ingles_A-                    0.401050    0.566235   -0.344983   \n",
      "desemp_ingles_A1                   -0.357271   -0.284243   -0.148454   \n",
      "desemp_ingles_A2                   -0.014602   -0.550152    0.008673   \n",
      "desemp_ingles_B+                    0.345621   -0.029386    0.121188   \n",
      "desemp_ingles_B1                   -0.365927   -0.284615    0.414016   \n",
      "\n",
      "                                  neurona_59  neurona_60  neurona_61  \\\n",
      "cole_bilingue                       0.192249    0.087394    0.252335   \n",
      "cole_naturaleza_oficial            -0.345350    0.504682   -0.513875   \n",
      "cole_sede_principal                -0.323613    0.258957    0.545206   \n",
      "estu_privado_libertad               0.161990   -0.219708    0.236711   \n",
      "fami_personashogar                  0.096428    0.212943    0.029688   \n",
      "fami_tieneautomovil                -0.013319   -0.175769    0.059726   \n",
      "fami_tienecomputador               -0.049935   -0.147892   -0.250530   \n",
      "fami_tieneinternet                  0.427339    0.008659    0.069758   \n",
      "cole_area_ubicacion_URBANO         -0.161905    0.027125    0.197983   \n",
      "cole_calendario_A                   0.713137    0.122853   -0.123467   \n",
      "cole_caracter_NO APLICA            -0.741855   -0.427917    0.066308   \n",
      "cole_caracter_TÉCNICO               0.202677    0.484994    0.074659   \n",
      "cole_caracter_TÉCNICO/ACADÉMICO     0.203204   -0.250668    0.116588   \n",
      "cole_genero_MASCULINO               0.083859   -0.456698    0.105081   \n",
      "cole_genero_MIXTO                  -0.332926   -0.191958    0.108140   \n",
      "cole_jornada_MAÑANA                -0.140241    0.057098   -0.327663   \n",
      "cole_jornada_NOCHE                 -0.258954    0.268372   -0.045336   \n",
      "cole_jornada_SABATINA              -0.684667   -0.133818   -0.448581   \n",
      "cole_jornada_TARDE                 -0.000348   -0.293631    0.112712   \n",
      "cole_jornada_UNICA                 -0.220653    0.159391   -0.088422   \n",
      "estu_genero_masculino               0.302834   -0.063401    0.312829   \n",
      "pais_nacionalidad_reside            0.017408    0.185628    0.149817   \n",
      "fami_estratovivienda_Estrato 2     -0.548053   -0.050368    0.399582   \n",
      "fami_estratovivienda_Estrato 3      0.318943   -0.488300   -0.280779   \n",
      "fami_estratovivienda_Estrato 4      0.339560   -0.149968    0.008063   \n",
      "fami_estratovivienda_Estrato 5     -0.030610   -0.085370    0.039613   \n",
      "fami_estratovivienda_Estrato 6     -0.054325   -0.478197    0.054421   \n",
      "fami_estratovivienda_Sin Estrato    0.308141   -0.542520   -0.198033   \n",
      "desemp_ingles_A-                   -0.732445    0.370719   -0.469070   \n",
      "desemp_ingles_A1                    0.135432   -0.640845    0.392003   \n",
      "desemp_ingles_A2                    0.429529   -0.255707    0.311989   \n",
      "desemp_ingles_B+                   -0.510636    0.264567    0.238936   \n",
      "desemp_ingles_B1                   -0.023536   -0.644268    0.198791   \n",
      "\n",
      "                                  neurona_62  neurona_63  neurona_64  \n",
      "cole_bilingue                      -0.686994    0.131830    0.085687  \n",
      "cole_naturaleza_oficial             0.306823   -0.149813   -0.356756  \n",
      "cole_sede_principal                 0.493026   -0.136905    0.603447  \n",
      "estu_privado_libertad               0.186146    0.025132    0.217300  \n",
      "fami_personashogar                 -0.019732    0.157662   -0.033670  \n",
      "fami_tieneautomovil                 0.039063    0.132687    0.276108  \n",
      "fami_tienecomputador                0.098683   -0.268463   -0.002101  \n",
      "fami_tieneinternet                  0.232871   -0.432887    0.490793  \n",
      "cole_area_ubicacion_URBANO         -0.497355    0.443842   -0.527157  \n",
      "cole_calendario_A                   0.552599    0.704159   -0.161433  \n",
      "cole_caracter_NO APLICA            -0.506775   -0.719142   -0.677700  \n",
      "cole_caracter_TÉCNICO              -0.208914   -0.828090   -0.207224  \n",
      "cole_caracter_TÉCNICO/ACADÉMICO    -0.253006    0.210299    0.131076  \n",
      "cole_genero_MASCULINO              -0.568049    0.065731   -0.024012  \n",
      "cole_genero_MIXTO                   0.571196    0.568789    0.404291  \n",
      "cole_jornada_MAÑANA                 0.462818   -0.375577    0.147370  \n",
      "cole_jornada_NOCHE                 -0.371308    0.422082   -0.592863  \n",
      "cole_jornada_SABATINA              -0.645796   -0.124085    0.296310  \n",
      "cole_jornada_TARDE                 -0.475555   -0.300900   -0.475982  \n",
      "cole_jornada_UNICA                  0.131211   -0.489824   -0.355261  \n",
      "estu_genero_masculino               0.097543    0.007433    0.420632  \n",
      "pais_nacionalidad_reside            0.186896   -0.235061   -0.067376  \n",
      "fami_estratovivienda_Estrato 2     -0.055238   -0.169556   -0.093146  \n",
      "fami_estratovivienda_Estrato 3     -0.345456    0.298601   -0.080503  \n",
      "fami_estratovivienda_Estrato 4     -0.259479    0.093373   -0.214457  \n",
      "fami_estratovivienda_Estrato 5     -0.687508   -0.582978   -0.093699  \n",
      "fami_estratovivienda_Estrato 6     -0.466180   -0.803470   -0.151360  \n",
      "fami_estratovivienda_Sin Estrato   -0.668152   -0.536961    0.308826  \n",
      "desemp_ingles_A-                   -0.050906    0.217037   -0.417676  \n",
      "desemp_ingles_A1                    0.301948    0.024852   -0.029141  \n",
      "desemp_ingles_A2                   -0.523876   -0.121163    0.270162  \n",
      "desemp_ingles_B+                   -0.695596   -0.658951    0.362721  \n",
      "desemp_ingles_B1                   -0.464419   -0.034347   -0.198863  \n",
      "\n",
      "[33 rows x 64 columns]\n"
     ]
    }
   ],
   "source": [
    "# Mostrar betas de la regresión para cada variable\n",
    "betas = model1.get_weights()\n",
    "betas_df = pd.DataFrame(betas[0], index=X.columns, columns=[f'neurona_{i+1}' for i in range(64)])\n",
    "print(betas_df)\n",
    "\n"
   ]
  }
 ],
 "metadata": {
  "kernelspec": {
   "display_name": "Python 3",
   "language": "python",
   "name": "python3"
  },
  "language_info": {
   "codemirror_mode": {
    "name": "ipython",
    "version": 3
   },
   "file_extension": ".py",
   "mimetype": "text/x-python",
   "name": "python",
   "nbconvert_exporter": "python",
   "pygments_lexer": "ipython3",
   "version": "3.11.9"
  }
 },
 "nbformat": 4,
 "nbformat_minor": 2
}
