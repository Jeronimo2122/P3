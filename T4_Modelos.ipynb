{
 "cells": [
  {
   "cell_type": "markdown",
   "metadata": {},
   "source": [
    "## Analitica Computacional para la toma de Decisiones\n",
    "## Proyecto 3 - AnaLítica de resultados Saber 11\n",
    "Carlos Gomez - 202111593\n",
    "<br>\n",
    "Jeronimo Vargas - 202113305\n",
    "<br>\n",
    "Juan Esteban Lopez - 202021417\n",
    "<br>"
   ]
  },
  {
   "cell_type": "code",
   "execution_count": 1,
   "metadata": {},
   "outputs": [],
   "source": [
    "# Importar librerias\n",
    "\n",
    "import numpy as np\n",
    "import pandas as pd\n",
    "from sklearn.model_selection import train_test_split\n",
    "from sklearn.preprocessing import StandardScaler, MinMaxScaler\n",
    "from tensorflow.keras.models import Sequential\n",
    "from tensorflow.keras.layers import Dense\n",
    "from tensorflow.keras.optimizers import Adam\n",
    "from sklearn.metrics import mean_squared_error, r2_score\n",
    "\n",
    "# Importar el dataset\n",
    "df = pd.read_csv(\"DF_FINAL.csv\")\n",
    "\n",
    "# Definir variables independientes (X) y dependiente (y)\n",
    "X = df.drop(columns=['punt_global'])  # Excluir la columna de puntaje global\n",
    "y = df['punt_global']  # Variable objetivo\n",
    "\n",
    "scaler = StandardScaler()\n",
    "X_scaled = scaler.fit_transform(X)\n",
    "\n",
    "# Dividir los datos en entrenamiento y prueba\n",
    "X_train, X_test, y_train, y_test = train_test_split(X_scaled, y, test_size=0.2, random_state=42)"
   ]
  },
  {
   "cell_type": "markdown",
   "metadata": {},
   "source": [
    "## Modelo 1: Red Neuronal Simple (Modelo Base)\n",
    "Este modelo será una red neuronal sencilla con una capa de entrada, una capa oculta y una capa de salida. Es un modelo básico para observar cómo funciona la regresión con redes neuronales en este conjunto de datos.\n",
    "\n",
    "### Características del Modelo:\n",
    "- Capa de entrada: 64 nodos.\n",
    "- Capa oculta: 32 nodos con función de activación ReLU.\n",
    "- Capa de salida: 1 nodo sin activación (regresión).\n",
    "- Optimización: Adam, que es adecuado para este tipo de modelos.\n",
    "- Función de pérdida: MSE (Mean Squared Error), común en tareas de regresión."
   ]
  },
  {
   "cell_type": "code",
   "execution_count": 2,
   "metadata": {},
   "outputs": [
    {
     "name": "stderr",
     "output_type": "stream",
     "text": [
      "c:\\Users\\Jeronimo Vargas\\AppData\\Local\\Programs\\Python\\Python311\\Lib\\site-packages\\keras\\src\\layers\\core\\dense.py:87: UserWarning: Do not pass an `input_shape`/`input_dim` argument to a layer. When using Sequential models, prefer using an `Input(shape)` object as the first layer in the model instead.\n",
      "  super().__init__(activity_regularizer=activity_regularizer, **kwargs)\n"
     ]
    },
    {
     "name": "stdout",
     "output_type": "stream",
     "text": [
      "Epoch 1/10\n",
      "\u001b[1m1845/1845\u001b[0m \u001b[32m━━━━━━━━━━━━━━━━━━━━\u001b[0m\u001b[37m\u001b[0m \u001b[1m5s\u001b[0m 2ms/step - loss: 15000.4746 - val_loss: 70.7109\n",
      "Epoch 2/10\n",
      "\u001b[1m1845/1845\u001b[0m \u001b[32m━━━━━━━━━━━━━━━━━━━━\u001b[0m\u001b[37m\u001b[0m \u001b[1m3s\u001b[0m 2ms/step - loss: 53.6549 - val_loss: 26.4074\n",
      "Epoch 3/10\n",
      "\u001b[1m1845/1845\u001b[0m \u001b[32m━━━━━━━━━━━━━━━━━━━━\u001b[0m\u001b[37m\u001b[0m \u001b[1m3s\u001b[0m 2ms/step - loss: 21.9649 - val_loss: 15.0838\n",
      "Epoch 4/10\n",
      "\u001b[1m1845/1845\u001b[0m \u001b[32m━━━━━━━━━━━━━━━━━━━━\u001b[0m\u001b[37m\u001b[0m \u001b[1m4s\u001b[0m 2ms/step - loss: 13.5307 - val_loss: 10.6690\n",
      "Epoch 5/10\n",
      "\u001b[1m1845/1845\u001b[0m \u001b[32m━━━━━━━━━━━━━━━━━━━━\u001b[0m\u001b[37m\u001b[0m \u001b[1m4s\u001b[0m 2ms/step - loss: 9.8921 - val_loss: 9.3362\n",
      "Epoch 6/10\n",
      "\u001b[1m1845/1845\u001b[0m \u001b[32m━━━━━━━━━━━━━━━━━━━━\u001b[0m\u001b[37m\u001b[0m \u001b[1m4s\u001b[0m 2ms/step - loss: 6.8592 - val_loss: 6.6982\n",
      "Epoch 7/10\n",
      "\u001b[1m1845/1845\u001b[0m \u001b[32m━━━━━━━━━━━━━━━━━━━━\u001b[0m\u001b[37m\u001b[0m \u001b[1m4s\u001b[0m 2ms/step - loss: 5.1468 - val_loss: 4.8742\n",
      "Epoch 8/10\n",
      "\u001b[1m1845/1845\u001b[0m \u001b[32m━━━━━━━━━━━━━━━━━━━━\u001b[0m\u001b[37m\u001b[0m \u001b[1m5s\u001b[0m 2ms/step - loss: 3.8662 - val_loss: 3.3847\n",
      "Epoch 9/10\n",
      "\u001b[1m1845/1845\u001b[0m \u001b[32m━━━━━━━━━━━━━━━━━━━━\u001b[0m\u001b[37m\u001b[0m \u001b[1m4s\u001b[0m 2ms/step - loss: 3.1603 - val_loss: 3.5576\n",
      "Epoch 10/10\n",
      "\u001b[1m1845/1845\u001b[0m \u001b[32m━━━━━━━━━━━━━━━━━━━━\u001b[0m\u001b[37m\u001b[0m \u001b[1m4s\u001b[0m 2ms/step - loss: 2.5682 - val_loss: 2.7954\n",
      "\u001b[1m462/462\u001b[0m \u001b[32m━━━━━━━━━━━━━━━━━━━━\u001b[0m\u001b[37m\u001b[0m \u001b[1m1s\u001b[0m 2ms/step\n",
      "Modelo 1 - MSE: 2.7954177374995157, R^2: 0.9984831139704275\n"
     ]
    }
   ],
   "source": [
    "# Crear el modelo\n",
    "model1 = Sequential()\n",
    "model1.add(Dense(64, input_dim=X_train.shape[1], activation='relu'))\n",
    "model1.add(Dense(32, activation='relu'))\n",
    "model1.add(Dense(1))  # Capa de salida\n",
    "\n",
    "# Compilar el modelo\n",
    "model1.compile(optimizer=Adam(), loss='mean_squared_error')\n",
    "\n",
    "# Entrenar el modelo\n",
    "history1 = model1.fit(X_train, y_train, epochs=10, batch_size=32, validation_data=(X_test, y_test))\n",
    "\n",
    "# Evaluación\n",
    "y_pred1 = model1.predict(X_test)\n",
    "mse1 = mean_squared_error(y_test, y_pred1)\n",
    "r2_1 = r2_score(y_test, y_pred1)\n",
    "\n",
    "print(f\"Modelo 1 - MSE: {mse1}, R^2: {r2_1}\")\n"
   ]
  },
  {
   "cell_type": "markdown",
   "metadata": {},
   "source": [
    "## Modelo 2: Red Neuronal Profunda\n",
    "Este modelo tendrá más capas ocultas para permitir la captura de patrones más complejos en los datos. La idea es que una mayor profundidad permita al modelo aprender representaciones más abstractas de los datos.\n",
    "\n",
    "### Características del Modelo:\n",
    "- Capa de entrada: 128 nodos.\n",
    "- Capas ocultas: 3 capas, cada una con 64 nodos y función de activación ReLU.\n",
    "- Capa de salida: 1 nodo sin activación.\n",
    "- Optimización: Adam con un learning rate ajustado.\n",
    "- Función de pérdida: MSE."
   ]
  },
  {
   "cell_type": "code",
   "execution_count": 3,
   "metadata": {},
   "outputs": [
    {
     "name": "stdout",
     "output_type": "stream",
     "text": [
      "Epoch 1/10\n"
     ]
    },
    {
     "name": "stderr",
     "output_type": "stream",
     "text": [
      "c:\\Users\\Jeronimo Vargas\\AppData\\Local\\Programs\\Python\\Python311\\Lib\\site-packages\\keras\\src\\layers\\core\\dense.py:87: UserWarning: Do not pass an `input_shape`/`input_dim` argument to a layer. When using Sequential models, prefer using an `Input(shape)` object as the first layer in the model instead.\n",
      "  super().__init__(activity_regularizer=activity_regularizer, **kwargs)\n"
     ]
    },
    {
     "name": "stdout",
     "output_type": "stream",
     "text": [
      "\u001b[1m1845/1845\u001b[0m \u001b[32m━━━━━━━━━━━━━━━━━━━━\u001b[0m\u001b[37m\u001b[0m \u001b[1m8s\u001b[0m 3ms/step - loss: 7640.6533 - val_loss: 26.9163\n",
      "Epoch 2/10\n",
      "\u001b[1m1845/1845\u001b[0m \u001b[32m━━━━━━━━━━━━━━━━━━━━\u001b[0m\u001b[37m\u001b[0m \u001b[1m5s\u001b[0m 3ms/step - loss: 20.6634 - val_loss: 17.4470\n",
      "Epoch 3/10\n",
      "\u001b[1m1845/1845\u001b[0m \u001b[32m━━━━━━━━━━━━━━━━━━━━\u001b[0m\u001b[37m\u001b[0m \u001b[1m5s\u001b[0m 3ms/step - loss: 12.3989 - val_loss: 7.7385\n",
      "Epoch 4/10\n",
      "\u001b[1m1845/1845\u001b[0m \u001b[32m━━━━━━━━━━━━━━━━━━━━\u001b[0m\u001b[37m\u001b[0m \u001b[1m5s\u001b[0m 3ms/step - loss: 6.6654 - val_loss: 4.7137\n",
      "Epoch 5/10\n",
      "\u001b[1m1845/1845\u001b[0m \u001b[32m━━━━━━━━━━━━━━━━━━━━\u001b[0m\u001b[37m\u001b[0m \u001b[1m4s\u001b[0m 2ms/step - loss: 4.8302 - val_loss: 5.3347\n",
      "Epoch 6/10\n",
      "\u001b[1m1845/1845\u001b[0m \u001b[32m━━━━━━━━━━━━━━━━━━━━\u001b[0m\u001b[37m\u001b[0m \u001b[1m4s\u001b[0m 2ms/step - loss: 4.9638 - val_loss: 3.4927\n",
      "Epoch 7/10\n",
      "\u001b[1m1845/1845\u001b[0m \u001b[32m━━━━━━━━━━━━━━━━━━━━\u001b[0m\u001b[37m\u001b[0m \u001b[1m4s\u001b[0m 2ms/step - loss: 4.1083 - val_loss: 4.2548\n",
      "Epoch 8/10\n",
      "\u001b[1m1845/1845\u001b[0m \u001b[32m━━━━━━━━━━━━━━━━━━━━\u001b[0m\u001b[37m\u001b[0m \u001b[1m4s\u001b[0m 2ms/step - loss: 4.0383 - val_loss: 3.3018\n",
      "Epoch 9/10\n",
      "\u001b[1m1845/1845\u001b[0m \u001b[32m━━━━━━━━━━━━━━━━━━━━\u001b[0m\u001b[37m\u001b[0m \u001b[1m5s\u001b[0m 3ms/step - loss: 3.7618 - val_loss: 3.2085\n",
      "Epoch 10/10\n",
      "\u001b[1m1845/1845\u001b[0m \u001b[32m━━━━━━━━━━━━━━━━━━━━\u001b[0m\u001b[37m\u001b[0m \u001b[1m4s\u001b[0m 2ms/step - loss: 3.8616 - val_loss: 6.2521\n",
      "\u001b[1m462/462\u001b[0m \u001b[32m━━━━━━━━━━━━━━━━━━━━\u001b[0m\u001b[37m\u001b[0m \u001b[1m1s\u001b[0m 2ms/step\n",
      "Modelo 2 - MSE: 6.252121329288351, R^2: 0.9966073923863441\n"
     ]
    }
   ],
   "source": [
    "# Crear el modelo profundo\n",
    "model2 = Sequential()\n",
    "model2.add(Dense(128, input_dim=X_train.shape[1], activation='relu'))  # Capa de entrada y oculta\n",
    "model2.add(Dense(64, activation='relu'))  # Capa oculta\n",
    "model2.add(Dense(64, activation='relu'))  # Capa oculta\n",
    "model2.add(Dense(1))  # Capa de salida\n",
    "\n",
    "# Compilar el modelo\n",
    "model2.compile(optimizer=Adam(), loss='mean_squared_error')\n",
    "\n",
    "# Entrenar el modelo\n",
    "history2 = model2.fit(X_train, y_train, epochs=10, batch_size=32, validation_data=(X_test, y_test))\n",
    "\n",
    "# Evaluación\n",
    "y_pred2 = model2.predict(X_test)\n",
    "mse2 = mean_squared_error(y_test, y_pred2)\n",
    "r2_2 = r2_score(y_test, y_pred2)\n",
    "\n",
    "print(f\"Modelo 2 - MSE: {mse2}, R^2: {r2_2}\")"
   ]
  },
  {
   "cell_type": "markdown",
   "metadata": {},
   "source": [
    "## Modelo 3: Red Neuronal con Dropout y Regularización L2\n",
    "Este modelo incluye Dropout y regularización L2 para prevenir el sobreajuste, lo que es útil cuando tenemos un conjunto de datos más pequeño o con mucha varianza. El Dropout ayuda a regularizar la red, mientras que la regularización L2 penaliza los pesos grandes, promoviendo una red más generalizable.\n",
    "\n",
    "### Características del Modelo:\n",
    "- Capa de entrada: 64 nodos.\n",
    "- Capas ocultas: 2 capas, cada una con 128 nodos y función de activación ReLU.\n",
    "- Capa de salida: 1 nodo sin activación.\n",
    "- Optimización: Adam con learning rate decay para una mejor convergencia.\n",
    "- Función de pérdida: MSE.\n",
    "- Regularización: Dropout (0.2) y L2 regularization"
   ]
  },
  {
   "cell_type": "code",
   "execution_count": 4,
   "metadata": {},
   "outputs": [
    {
     "name": "stdout",
     "output_type": "stream",
     "text": [
      "Epoch 1/10\n"
     ]
    },
    {
     "name": "stderr",
     "output_type": "stream",
     "text": [
      "c:\\Users\\Jeronimo Vargas\\AppData\\Local\\Programs\\Python\\Python311\\Lib\\site-packages\\keras\\src\\layers\\core\\dense.py:87: UserWarning: Do not pass an `input_shape`/`input_dim` argument to a layer. When using Sequential models, prefer using an `Input(shape)` object as the first layer in the model instead.\n",
      "  super().__init__(activity_regularizer=activity_regularizer, **kwargs)\n"
     ]
    },
    {
     "name": "stdout",
     "output_type": "stream",
     "text": [
      "\u001b[1m1845/1845\u001b[0m \u001b[32m━━━━━━━━━━━━━━━━━━━━\u001b[0m\u001b[37m\u001b[0m \u001b[1m5s\u001b[0m 2ms/step - loss: 9075.0557 - val_loss: 51.1907\n",
      "Epoch 2/10\n",
      "\u001b[1m1845/1845\u001b[0m \u001b[32m━━━━━━━━━━━━━━━━━━━━\u001b[0m\u001b[37m\u001b[0m \u001b[1m4s\u001b[0m 2ms/step - loss: 419.1455 - val_loss: 30.8369\n",
      "Epoch 3/10\n",
      "\u001b[1m1845/1845\u001b[0m \u001b[32m━━━━━━━━━━━━━━━━━━━━\u001b[0m\u001b[37m\u001b[0m \u001b[1m4s\u001b[0m 2ms/step - loss: 375.7744 - val_loss: 32.3413\n",
      "Epoch 4/10\n",
      "\u001b[1m1845/1845\u001b[0m \u001b[32m━━━━━━━━━━━━━━━━━━━━\u001b[0m\u001b[37m\u001b[0m \u001b[1m4s\u001b[0m 2ms/step - loss: 347.1894 - val_loss: 27.2043\n",
      "Epoch 5/10\n",
      "\u001b[1m1845/1845\u001b[0m \u001b[32m━━━━━━━━━━━━━━━━━━━━\u001b[0m\u001b[37m\u001b[0m \u001b[1m5s\u001b[0m 3ms/step - loss: 320.2198 - val_loss: 23.5912\n",
      "Epoch 6/10\n",
      "\u001b[1m1845/1845\u001b[0m \u001b[32m━━━━━━━━━━━━━━━━━━━━\u001b[0m\u001b[37m\u001b[0m \u001b[1m5s\u001b[0m 3ms/step - loss: 298.1561 - val_loss: 20.5890\n",
      "Epoch 7/10\n",
      "\u001b[1m1845/1845\u001b[0m \u001b[32m━━━━━━━━━━━━━━━━━━━━\u001b[0m\u001b[37m\u001b[0m \u001b[1m5s\u001b[0m 3ms/step - loss: 277.0150 - val_loss: 30.4516\n",
      "Epoch 8/10\n",
      "\u001b[1m1845/1845\u001b[0m \u001b[32m━━━━━━━━━━━━━━━━━━━━\u001b[0m\u001b[37m\u001b[0m \u001b[1m5s\u001b[0m 3ms/step - loss: 257.0745 - val_loss: 16.4797\n",
      "Epoch 9/10\n",
      "\u001b[1m1845/1845\u001b[0m \u001b[32m━━━━━━━━━━━━━━━━━━━━\u001b[0m\u001b[37m\u001b[0m \u001b[1m4s\u001b[0m 2ms/step - loss: 244.4358 - val_loss: 30.5192\n",
      "Epoch 10/10\n",
      "\u001b[1m1845/1845\u001b[0m \u001b[32m━━━━━━━━━━━━━━━━━━━━\u001b[0m\u001b[37m\u001b[0m \u001b[1m5s\u001b[0m 2ms/step - loss: 230.8074 - val_loss: 41.1089\n",
      "\u001b[1m462/462\u001b[0m \u001b[32m━━━━━━━━━━━━━━━━━━━━\u001b[0m\u001b[37m\u001b[0m \u001b[1m1s\u001b[0m 2ms/step\n",
      "Modelo 3 - MSE: 38.80491735566765, R^2: 0.9789431696644456\n"
     ]
    }
   ],
   "source": [
    "from tensorflow.keras.regularizers import l2\n",
    "from tensorflow.keras.layers import Dropout\n",
    "\n",
    "# Crear el modelo con Dropout y Regularización L2\n",
    "model3 = Sequential()\n",
    "model3.add(Dense(128, input_dim=X_train.shape[1], activation='relu', kernel_regularizer=l2(0.01)))  # Capa de entrada y oculta con regularización L2\n",
    "model3.add(Dropout(0.2))  # Capa Dropout\n",
    "model3.add(Dense(128, activation='relu', kernel_regularizer=l2(0.01)))  # Capa oculta con regularización L2\n",
    "model3.add(Dropout(0.2))  # Capa Dropout\n",
    "model3.add(Dense(1))  # Capa de salida\n",
    "\n",
    "# Compilar el modelo\n",
    "model3.compile(optimizer=Adam(learning_rate=0.001), loss='mean_squared_error')\n",
    "\n",
    "# Entrenar el modelo\n",
    "history3 = model3.fit(X_train, y_train, epochs=10, batch_size=32, validation_data=(X_test, y_test))\n",
    "\n",
    "# Evaluación\n",
    "y_pred3 = model3.predict(X_test)\n",
    "mse3 = mean_squared_error(y_test, y_pred3)\n",
    "r2_3 = r2_score(y_test, y_pred3)\n",
    "\n",
    "print(f\"Modelo 3 - MSE: {mse3}, R^2: {r2_3}\")"
   ]
  },
  {
   "cell_type": "code",
   "execution_count": 5,
   "metadata": {},
   "outputs": [
    {
     "name": "stdout",
     "output_type": "stream",
     "text": [
      "Modelo 1 - MSE: 2.7954177374995157, R^2: 0.9984831139704275\n",
      "Modelo 2 - MSE: 6.252121329288351, R^2: 0.9966073923863441\n",
      "Modelo 3 - MSE: 38.80491735566765, R^2: 0.9789431696644456\n"
     ]
    }
   ],
   "source": [
    "# Imprimir los MSE y R^2 de los tres modelos\n",
    "print(f\"Modelo 1 - MSE: {mse1}, R^2: {r2_1}\")\n",
    "print(f\"Modelo 2 - MSE: {mse2}, R^2: {r2_2}\")\n",
    "print(f\"Modelo 3 - MSE: {mse3}, R^2: {r2_3}\")\n"
   ]
  },
  {
   "cell_type": "markdown",
   "metadata": {},
   "source": [
    "### Deacuerdo al experimento en MLflow se puede ver como el MODELO 1 es el que mejor se ajusta y representa los datos de manera predictiva. "
   ]
  },
  {
   "cell_type": "code",
   "execution_count": 6,
   "metadata": {},
   "outputs": [
    {
     "name": "stderr",
     "output_type": "stream",
     "text": [
      "WARNING:absl:You are saving your model as an HDF5 file via `model.save()` or `keras.saving.save_model(model)`. This file format is considered legacy. We recommend using instead the native Keras format, e.g. `model.save('my_model.keras')` or `keras.saving.save_model(model, 'my_model.keras')`. \n",
      "WARNING:absl:You are saving your model as an HDF5 file via `model.save()` or `keras.saving.save_model(model)`. This file format is considered legacy. We recommend using instead the native Keras format, e.g. `model.save('my_model.keras')` or `keras.saving.save_model(model, 'my_model.keras')`. \n",
      "WARNING:absl:You are saving your model as an HDF5 file via `model.save()` or `keras.saving.save_model(model)`. This file format is considered legacy. We recommend using instead the native Keras format, e.g. `model.save('my_model.keras')` or `keras.saving.save_model(model, 'my_model.keras')`. \n"
     ]
    },
    {
     "data": {
      "text/plain": [
       "['scaler.pkl']"
      ]
     },
     "execution_count": 6,
     "metadata": {},
     "output_type": "execute_result"
    }
   ],
   "source": [
    "# Guardar los modelos\n",
    "model1.save(\"model1.h5\")\n",
    "model2.save(\"model2.h5\")\n",
    "model3.save(\"model3.h5\")\n",
    "\n",
    "# Guardar el scaler\n",
    "import joblib\n",
    "joblib.dump(scaler, \"scaler.pkl\")"
   ]
  },
  {
   "cell_type": "markdown",
   "metadata": {},
   "source": [
    "### El Modelo 2 es el mejor, ya que tiene el MSE más bajo y el R² más alto, lo que lo convierte en el modelo más preciso y con el mejor poder explicativo de las tres opciones."
   ]
  },
  {
   "cell_type": "code",
   "execution_count": 11,
   "metadata": {},
   "outputs": [
    {
     "name": "stderr",
     "output_type": "stream",
     "text": [
      "WARNING:absl:You are saving your model as an HDF5 file via `model.save()` or `keras.saving.save_model(model)`. This file format is considered legacy. We recommend using instead the native Keras format, e.g. `model.save('my_model.keras')` or `keras.saving.save_model(model, 'my_model.keras')`. \n"
     ]
    },
    {
     "name": "stdout",
     "output_type": "stream",
     "text": [
      "38\n"
     ]
    }
   ],
   "source": [
    "# Guardar modelo 2\n",
    "model1.save(\"modelo.h5\")\n",
    "\n",
    "# Guardar el scaler\n",
    "import joblib # type: ignore\n",
    "joblib.dump(scaler, \"scaler.pkl\")\n",
    "\n",
    "print(X_train.shape[1])"
   ]
  },
  {
   "cell_type": "code",
   "execution_count": 12,
   "metadata": {},
   "outputs": [
    {
     "name": "stderr",
     "output_type": "stream",
     "text": [
      "WARNING:absl:Compiled the loaded model, but the compiled metrics have yet to be built. `model.compile_metrics` will be empty until you train or evaluate the model.\n"
     ]
    },
    {
     "name": "stdout",
     "output_type": "stream",
     "text": [
      "\u001b[1m1845/1845\u001b[0m \u001b[32m━━━━━━━━━━━━━━━━━━━━\u001b[0m\u001b[37m\u001b[0m \u001b[1m2s\u001b[0m 1ms/step\n",
      "[[188.25078]\n",
      " [273.6133 ]\n",
      " [262.55203]\n",
      " ...\n",
      " [265.21643]\n",
      " [170.10529]\n",
      " [214.06964]]\n",
      "[-0.10009234  0.37292239  0.17264706  0.         -0.01411036 -0.3831534\n",
      " -0.82297071 -0.80107489 -0.57346939 -1.28146635 -0.8146528  -0.42136926\n",
      " -0.81268633  0.50039379  0.05806808 -0.04587785 -0.40120953  0.97933193\n",
      " -0.07021061  0.16877978 -1.14252518  3.14243369 -0.14472543 -0.46027491\n",
      " -0.28428063 -0.91087475  0.         -0.47338647 -0.37268662 -0.19117403\n",
      " -0.11504677 -0.1026842  -0.20031687  0.7392064  -0.57951478 -0.26369915\n",
      " -0.0951407  -0.16958486]\n",
      "\u001b[1m1/1\u001b[0m \u001b[32m━━━━━━━━━━━━━━━━━━━━\u001b[0m\u001b[37m\u001b[0m \u001b[1m0s\u001b[0m 21ms/step\n",
      "[[242.76712]]\n"
     ]
    },
    {
     "name": "stderr",
     "output_type": "stream",
     "text": [
      "c:\\Users\\Jeronimo Vargas\\AppData\\Local\\Programs\\Python\\Python311\\Lib\\site-packages\\sklearn\\base.py:493: UserWarning: X does not have valid feature names, but StandardScaler was fitted with feature names\n",
      "  warnings.warn(\n"
     ]
    }
   ],
   "source": [
    "# Importar modelo y scaler\n",
    "from tensorflow.keras.models import load_model\n",
    "import joblib\n",
    "\n",
    "model = load_model(\"modelo.h5\")\n",
    "scaler = joblib.load(\"scaler.pkl\")\n",
    "\n",
    "# PRedecir con el modelo\n",
    "\n",
    "y_pred = model.predict(X_train)\n",
    "print(y_pred)\n",
    "\n",
    "print(X_train[0])\n",
    "\n",
    "# Predecir con datos nuevos 0,1,1,0,4.0,1,1,1,51.0,45.0,55.0,49.0,45.0,1,1,0,1,0,0,1,1,0,0,0,0,1,1,0,1,0,0,0,0,0,1,0,0,0\n",
    "X_new = np.array([[0,1,1,0,4.0,1,1,1,51.0,45.0,55.0,49.0,45.0,1,1,0,1,0,0,1,1,0,0,0,0,1,1,0,1,0,0,0,0,0,1,0,0,0]])\n",
    "X_new_scaled = scaler.transform(X_new)\n",
    "y_pred_new = model.predict(X_new_scaled)\n",
    "print(y_pred_new)\n"
   ]
  },
  {
   "cell_type": "code",
   "execution_count": 13,
   "metadata": {},
   "outputs": [
    {
     "name": "stdout",
     "output_type": "stream",
     "text": [
      "                                  neurona_1  neurona_2  neurona_3  neurona_4  \\\n",
      "cole_bilingue                      0.193005  -0.286596   0.003315  -0.037093   \n",
      "cole_naturaleza_oficial           -0.185021  -0.235700  -0.274619  -0.303379   \n",
      "cole_sede_principal               -0.029667   0.054496  -0.180758   0.009713   \n",
      "estu_privado_libertad              0.232261  -0.120609  -0.181941   0.170767   \n",
      "fami_personashogar                -0.018940   0.012588  -0.002934   0.002251   \n",
      "fami_tieneautomovil               -0.134507   0.140751   0.171070   0.086322   \n",
      "fami_tienecomputador               0.143293   0.089340  -0.198542   0.164537   \n",
      "fami_tieneinternet                -0.079412  -0.058558   0.164443  -0.082847   \n",
      "punt_ingles                        0.014642  -0.043829   0.173291  -0.024234   \n",
      "punt_matematicas                   0.121061   0.151064   0.122962   0.094495   \n",
      "punt_sociales_ciudadanas           0.193337   0.156100   0.281155   0.069795   \n",
      "punt_c_naturales                   0.034876  -0.001635   0.146843   0.036026   \n",
      "punt_lectura_critica               0.076650   0.065143   0.178790   0.173353   \n",
      "cole_area_ubicacion_URBANO        -0.053159  -0.142025  -0.013958   0.014286   \n",
      "cole_calendario_A                 -0.098438   0.002541  -0.015164   0.807358   \n",
      "cole_caracter_NO APLICA           -0.019314  -0.854820   0.050103   0.082576   \n",
      "cole_caracter_TÉCNICO             -0.266905  -0.088109   0.551574   0.026658   \n",
      "cole_caracter_TÉCNICO/ACADÉMICO    0.418767  -0.155617  -0.469590  -0.443069   \n",
      "cole_genero_MASCULINO             -0.121852  -0.224837   0.114066  -0.839433   \n",
      "cole_genero_MIXTO                 -0.197966  -0.088230  -0.200765   0.433968   \n",
      "cole_jornada_MAÑANA                0.124841   0.508037  -0.386241   0.641941   \n",
      "cole_jornada_NOCHE                 0.075276  -0.363747   0.127226   0.249114   \n",
      "cole_jornada_SABATINA              0.026162  -0.604809   0.279361  -0.441379   \n",
      "cole_jornada_TARDE                -0.367889  -0.255367   0.426673  -0.585212   \n",
      "cole_jornada_UNICA                 0.430376   0.342879  -0.025332   0.146882   \n",
      "estu_genero_masculino              0.056215   0.100185   0.028052   0.037179   \n",
      "pais_nacionalidad_reside          -0.068019   0.204791   0.137713  -0.077161   \n",
      "fami_estratovivienda_Estrato 2     0.264796  -0.296980  -0.287959   0.255012   \n",
      "fami_estratovivienda_Estrato 3    -0.382265  -0.047098   0.122935   0.049664   \n",
      "fami_estratovivienda_Estrato 4     0.006105  -0.109408  -0.357549  -0.498421   \n",
      "fami_estratovivienda_Estrato 5    -0.822703  -0.020731  -0.372458   0.222068   \n",
      "fami_estratovivienda_Estrato 6     0.174193   0.185558   0.054425   0.159437   \n",
      "fami_estratovivienda_Sin Estrato   0.072975  -0.405851  -0.335074   0.225695   \n",
      "desemp_ingles_A-                   0.736130  -0.428164  -0.530304   0.110499   \n",
      "desemp_ingles_A1                  -0.674816   0.508502   0.589825  -0.353537   \n",
      "desemp_ingles_A2                  -0.325081   0.105465   0.372954  -0.396111   \n",
      "desemp_ingles_B+                  -0.671300  -0.097817   0.230776  -0.024055   \n",
      "desemp_ingles_B1                  -0.533907   0.253465   0.011160   0.149943   \n",
      "\n",
      "                                  neurona_5  neurona_6  neurona_7  neurona_8  \\\n",
      "cole_bilingue                     -0.109995   0.136255  -0.043700  -0.343157   \n",
      "cole_naturaleza_oficial           -0.006212  -0.342302  -0.273278  -0.010504   \n",
      "cole_sede_principal               -0.444202  -0.281084  -0.471745   0.745154   \n",
      "estu_privado_libertad              0.236341  -0.217761  -0.025693  -0.036318   \n",
      "fami_personashogar                 0.013362   0.020107  -0.013838   0.019180   \n",
      "fami_tieneautomovil               -0.101974  -0.466584  -0.026265  -0.216366   \n",
      "fami_tienecomputador              -0.076493  -0.055743   0.015763   0.127546   \n",
      "fami_tieneinternet                 0.089875   0.041566   0.017066   0.022296   \n",
      "punt_ingles                        0.104660   0.110350   0.093517   0.144297   \n",
      "punt_matematicas                   0.187880   0.087430   0.192101   0.142716   \n",
      "punt_sociales_ciudadanas           0.171326   0.056743   0.144816   0.182838   \n",
      "punt_c_naturales                   0.290484   0.087006   0.174354  -0.083192   \n",
      "punt_lectura_critica               0.194331   0.116217   0.132953   0.118172   \n",
      "cole_area_ubicacion_URBANO        -0.002272  -0.253758   0.003833   0.150786   \n",
      "cole_calendario_A                 -0.061453   0.144559  -0.174806  -0.150030   \n",
      "cole_caracter_NO APLICA           -0.028918  -0.534813   0.072567   0.003115   \n",
      "cole_caracter_TÉCNICO             -0.193150  -0.159278  -0.053303   0.009204   \n",
      "cole_caracter_TÉCNICO/ACADÉMICO   -0.026209  -0.371462  -0.104185  -0.291445   \n",
      "cole_genero_MASCULINO             -0.052781   0.044615  -0.048879   0.108167   \n",
      "cole_genero_MIXTO                 -0.322166  -0.125061  -0.338828  -0.065418   \n",
      "cole_jornada_MAÑANA               -0.519050  -0.009697  -0.082787  -0.188707   \n",
      "cole_jornada_NOCHE                 0.648625   0.380299  -0.146921  -0.206206   \n",
      "cole_jornada_SABATINA              0.283052  -0.219056   0.072007   0.062421   \n",
      "cole_jornada_TARDE                 0.223299   0.637004  -0.130340   0.271714   \n",
      "cole_jornada_UNICA                 0.551120  -0.364810  -0.024494   0.430093   \n",
      "estu_genero_masculino             -0.059276   0.064477  -0.034216  -0.035940   \n",
      "pais_nacionalidad_reside          -0.042720   0.068160   0.102737  -0.179118   \n",
      "fami_estratovivienda_Estrato 2    -0.030519  -0.201566  -0.058952   0.457602   \n",
      "fami_estratovivienda_Estrato 3    -0.067412   0.241059   0.759898   0.373383   \n",
      "fami_estratovivienda_Estrato 4     0.181358   0.176073  -0.128316   0.214033   \n",
      "fami_estratovivienda_Estrato 5     0.180920   0.237488   0.280211   0.079164   \n",
      "fami_estratovivienda_Estrato 6    -0.012115  -0.053008  -0.500926   0.072393   \n",
      "fami_estratovivienda_Sin Estrato   0.013150   0.076999   0.463097  -0.106161   \n",
      "desemp_ingles_A-                  -0.705360  -0.295785  -0.703719   0.192598   \n",
      "desemp_ingles_A1                   0.567175  -0.421083   0.612810  -0.067403   \n",
      "desemp_ingles_A2                   0.109138   0.399227   0.044661  -0.390415   \n",
      "desemp_ingles_B+                   0.017715   0.120466   0.297077  -0.006160   \n",
      "desemp_ingles_B1                   0.131415   0.329865   0.363282   0.276005   \n",
      "\n",
      "                                  neurona_9  neurona_10  ...  neurona_55  \\\n",
      "cole_bilingue                      0.030329   -0.353936  ...   -0.802085   \n",
      "cole_naturaleza_oficial            0.537881   -0.216170  ...   -0.359065   \n",
      "cole_sede_principal                0.079746   -0.340696  ...    0.486222   \n",
      "estu_privado_libertad              0.198138    0.082593  ...   -0.162753   \n",
      "fami_personashogar                 0.016993   -0.006224  ...   -0.050986   \n",
      "fami_tieneautomovil               -0.015109    0.031233  ...    0.266924   \n",
      "fami_tienecomputador              -0.046984    0.166851  ...   -0.084792   \n",
      "fami_tieneinternet                 0.312032    0.131851  ...   -0.079945   \n",
      "punt_ingles                        0.000600    0.027565  ...   -0.073019   \n",
      "punt_matematicas                   0.140465    0.088876  ...   -0.073512   \n",
      "punt_sociales_ciudadanas           0.006441    0.124413  ...   -0.034090   \n",
      "punt_c_naturales                   0.118260    0.058106  ...    0.090950   \n",
      "punt_lectura_critica               0.083580    0.066496  ...   -0.011631   \n",
      "cole_area_ubicacion_URBANO        -0.202821   -0.040376  ...    0.184186   \n",
      "cole_calendario_A                 -0.123774   -0.008471  ...    0.898250   \n",
      "cole_caracter_NO APLICA           -0.387737   -0.375686  ...   -0.066959   \n",
      "cole_caracter_TÉCNICO             -0.039086   -0.026054  ...    0.085496   \n",
      "cole_caracter_TÉCNICO/ACADÉMICO   -0.127935   -0.135607  ...    0.009012   \n",
      "cole_genero_MASCULINO              0.230621    0.070217  ...    0.047941   \n",
      "cole_genero_MIXTO                  0.101690   -0.089925  ...   -0.057667   \n",
      "cole_jornada_MAÑANA                0.104041    0.407730  ...   -0.326368   \n",
      "cole_jornada_NOCHE                -0.153237   -0.395289  ...   -0.082003   \n",
      "cole_jornada_SABATINA             -0.994541   -0.511805  ...    0.160988   \n",
      "cole_jornada_TARDE                -0.334225   -0.222345  ...    0.256512   \n",
      "cole_jornada_UNICA                -0.652516   -0.422978  ...   -0.669091   \n",
      "estu_genero_masculino             -0.052174    0.002382  ...   -0.069639   \n",
      "pais_nacionalidad_reside          -0.036431   -0.213753  ...    0.171614   \n",
      "fami_estratovivienda_Estrato 2     0.235008   -0.027345  ...    0.206913   \n",
      "fami_estratovivienda_Estrato 3    -0.419572   -0.110623  ...   -0.064831   \n",
      "fami_estratovivienda_Estrato 4    -0.206078    0.226416  ...   -0.001139   \n",
      "fami_estratovivienda_Estrato 5     0.133367   -0.939824  ...   -0.394701   \n",
      "fami_estratovivienda_Estrato 6     0.085079    0.100350  ...   -0.026426   \n",
      "fami_estratovivienda_Sin Estrato   0.269015   -0.163711  ...   -0.253485   \n",
      "desemp_ingles_A-                  -0.026732    0.611671  ...    0.506038   \n",
      "desemp_ingles_A1                   0.114366   -0.674261  ...   -0.293991   \n",
      "desemp_ingles_A2                  -0.931264   -0.933693  ...    0.107041   \n",
      "desemp_ingles_B+                   0.154106    0.123358  ...   -0.249108   \n",
      "desemp_ingles_B1                  -0.042310   -0.634846  ...    0.070733   \n",
      "\n",
      "                                  neurona_56  neurona_57  neurona_58  \\\n",
      "cole_bilingue                      -0.404172   -0.024323    0.230241   \n",
      "cole_naturaleza_oficial            -0.130147    0.027988    0.408216   \n",
      "cole_sede_principal                 0.303740    0.036497    0.058518   \n",
      "estu_privado_libertad               0.101725   -0.130051   -0.202523   \n",
      "fami_personashogar                  0.007632   -0.005785   -0.005995   \n",
      "fami_tieneautomovil                -0.433121    0.014637   -0.070265   \n",
      "fami_tienecomputador                0.111486   -0.942736    0.049702   \n",
      "fami_tieneinternet                 -0.344211   -0.028605   -0.034320   \n",
      "punt_ingles                         0.116539    0.017020    0.002225   \n",
      "punt_matematicas                    0.112137    0.144552    0.005928   \n",
      "punt_sociales_ciudadanas            0.061491    0.154342    0.105876   \n",
      "punt_c_naturales                    0.106889    0.099263    0.008004   \n",
      "punt_lectura_critica                0.062014    0.078718    0.024076   \n",
      "cole_area_ubicacion_URBANO         -0.268781    0.050909   -0.066225   \n",
      "cole_calendario_A                   0.256839    0.062289   -0.012637   \n",
      "cole_caracter_NO APLICA             0.046942    0.260293   -0.544244   \n",
      "cole_caracter_TÉCNICO               0.337130    0.505636    0.055902   \n",
      "cole_caracter_TÉCNICO/ACADÉMICO    -0.178747    0.042891    0.083473   \n",
      "cole_genero_MASCULINO               0.014085    0.161451   -0.604579   \n",
      "cole_genero_MIXTO                  -0.138882   -0.046047    0.380176   \n",
      "cole_jornada_MAÑANA                 0.175557    0.228312   -0.731727   \n",
      "cole_jornada_NOCHE                 -0.549990    0.153990    0.177126   \n",
      "cole_jornada_SABATINA              -0.015645   -0.552268   -0.366111   \n",
      "cole_jornada_TARDE                 -0.261662   -0.584088    0.583950   \n",
      "cole_jornada_UNICA                  0.011179    0.100159    0.245166   \n",
      "estu_genero_masculino              -0.273830    0.030715    0.031767   \n",
      "pais_nacionalidad_reside           -0.235927   -0.217474    0.175802   \n",
      "fami_estratovivienda_Estrato 2     -0.149949   -0.033422   -0.229347   \n",
      "fami_estratovivienda_Estrato 3     -0.252536   -0.084839    0.303794   \n",
      "fami_estratovivienda_Estrato 4      0.309193    0.258736    0.140165   \n",
      "fami_estratovivienda_Estrato 5     -0.285822    0.212400   -0.650185   \n",
      "fami_estratovivienda_Estrato 6      0.236347    0.144078   -0.549076   \n",
      "fami_estratovivienda_Sin Estrato   -0.132497    0.324490   -0.603231   \n",
      "desemp_ingles_A-                   -0.297034    0.010170   -0.316968   \n",
      "desemp_ingles_A1                    0.130575   -0.219597    0.386853   \n",
      "desemp_ingles_A2                    0.391663    0.312788   -0.569713   \n",
      "desemp_ingles_B+                    0.290297    0.216882    0.239022   \n",
      "desemp_ingles_B1                   -0.029712    0.354593   -0.176642   \n",
      "\n",
      "                                  neurona_59  neurona_60  neurona_61  \\\n",
      "cole_bilingue                       0.147849    0.040130    0.151383   \n",
      "cole_naturaleza_oficial            -0.381297    0.781911    0.285419   \n",
      "cole_sede_principal                -0.256995    0.475498    0.814718   \n",
      "estu_privado_libertad               0.046451    0.228104   -0.006628   \n",
      "fami_personashogar                  0.002565    0.000831    0.004063   \n",
      "fami_tieneautomovil                -0.259393    0.135659    0.018709   \n",
      "fami_tienecomputador                0.163984    0.142480    0.059022   \n",
      "fami_tieneinternet                 -0.261533    0.058041    0.169200   \n",
      "punt_ingles                         0.049055    0.132909   -0.051981   \n",
      "punt_matematicas                    0.111197    0.058894    0.132348   \n",
      "punt_sociales_ciudadanas            0.150768    0.041229    0.169831   \n",
      "punt_c_naturales                    0.117544    0.050508    0.112523   \n",
      "punt_lectura_critica                0.068333    0.017274    0.105056   \n",
      "cole_area_ubicacion_URBANO          0.202125    0.057556    0.012078   \n",
      "cole_calendario_A                   0.212099   -0.108899   -0.120236   \n",
      "cole_caracter_NO APLICA            -0.989958   -0.240794    0.047568   \n",
      "cole_caracter_TÉCNICO               0.221516   -0.371455    0.348809   \n",
      "cole_caracter_TÉCNICO/ACADÉMICO    -0.083707    0.282615   -0.445306   \n",
      "cole_genero_MASCULINO               0.202668   -0.648112   -0.596262   \n",
      "cole_genero_MIXTO                   0.311903    0.547784    0.056096   \n",
      "cole_jornada_MAÑANA                -0.370552    0.576420    0.487662   \n",
      "cole_jornada_NOCHE                  0.179489   -0.230224   -0.007988   \n",
      "cole_jornada_SABATINA              -0.083234    0.159431    0.127169   \n",
      "cole_jornada_TARDE                  0.036363   -0.183643   -0.135973   \n",
      "cole_jornada_UNICA                 -0.502339    0.062872   -0.592375   \n",
      "estu_genero_masculino               0.158283   -0.021831   -0.036375   \n",
      "pais_nacionalidad_reside            0.161452   -0.000883   -0.001346   \n",
      "fami_estratovivienda_Estrato 2      0.060139    0.171877   -0.130058   \n",
      "fami_estratovivienda_Estrato 3     -0.071766   -0.130605   -0.088746   \n",
      "fami_estratovivienda_Estrato 4     -0.473594    0.120348    0.232700   \n",
      "fami_estratovivienda_Estrato 5      0.072746   -0.053504    0.126426   \n",
      "fami_estratovivienda_Estrato 6     -0.917334    0.088508    0.015632   \n",
      "fami_estratovivienda_Sin Estrato    0.234750    0.307915    0.397146   \n",
      "desemp_ingles_A-                   -0.530203   -0.437999   -0.485799   \n",
      "desemp_ingles_A1                    0.286592    0.448235    0.651800   \n",
      "desemp_ingles_A2                    0.273443   -0.105118    0.366597   \n",
      "desemp_ingles_B+                    0.053873    0.102630    0.109960   \n",
      "desemp_ingles_B1                   -0.278737    0.456306   -0.543012   \n",
      "\n",
      "                                  neurona_62  neurona_63  neurona_64  \n",
      "cole_bilingue                       0.068894    0.086589   -0.017399  \n",
      "cole_naturaleza_oficial            -0.073774    0.178948   -0.038403  \n",
      "cole_sede_principal                -0.233352    0.444964    0.036389  \n",
      "estu_privado_libertad              -0.144745   -0.089895   -0.225250  \n",
      "fami_personashogar                 -0.008272    0.002443   -0.020279  \n",
      "fami_tieneautomovil                -0.042764    0.034728    0.105034  \n",
      "fami_tienecomputador                0.158513    0.023152    0.154608  \n",
      "fami_tieneinternet                  0.118178   -0.130262    0.115691  \n",
      "punt_ingles                         0.027779    0.069586    0.006971  \n",
      "punt_matematicas                    0.145145    0.110031    0.253423  \n",
      "punt_sociales_ciudadanas            0.198287    0.071504    0.077097  \n",
      "punt_c_naturales                    0.097648    0.066097    0.069625  \n",
      "punt_lectura_critica                0.191534   -0.063305    0.127806  \n",
      "cole_area_ubicacion_URBANO         -0.020716    0.037429   -0.019859  \n",
      "cole_calendario_A                   0.118665    0.041153    1.050772  \n",
      "cole_caracter_NO APLICA            -0.595585    0.127664   -0.311437  \n",
      "cole_caracter_TÉCNICO               0.102301    0.336253    0.085744  \n",
      "cole_caracter_TÉCNICO/ACADÉMICO    -0.075246    0.108491   -0.117488  \n",
      "cole_genero_MASCULINO               0.175044    0.210220    0.011904  \n",
      "cole_genero_MIXTO                   0.138427    0.329882   -0.260800  \n",
      "cole_jornada_MAÑANA                 0.788825    0.177560   -0.297694  \n",
      "cole_jornada_NOCHE                 -0.091486   -0.580410   -0.191864  \n",
      "cole_jornada_SABATINA              -0.791711   -0.506170   -0.217824  \n",
      "cole_jornada_TARDE                 -0.424344    0.383957   -0.080357  \n",
      "cole_jornada_UNICA                 -0.171931    0.047284    0.062680  \n",
      "estu_genero_masculino              -0.141536   -0.060888   -0.033969  \n",
      "pais_nacionalidad_reside            0.021066    0.032465   -0.101811  \n",
      "fami_estratovivienda_Estrato 2      0.084379    0.192664    0.030834  \n",
      "fami_estratovivienda_Estrato 3      0.101491    0.381430   -0.005734  \n",
      "fami_estratovivienda_Estrato 4      0.129353   -0.340578   -0.088710  \n",
      "fami_estratovivienda_Estrato 5      0.128399    0.037688   -0.002969  \n",
      "fami_estratovivienda_Estrato 6     -0.329098    0.046595   -1.013641  \n",
      "fami_estratovivienda_Sin Estrato    0.197365   -0.461671   -0.089609  \n",
      "desemp_ingles_A-                   -0.561048   -0.565026    1.143731  \n",
      "desemp_ingles_A1                    0.293673    0.415079   -1.238294  \n",
      "desemp_ingles_A2                    0.251007    0.284233    0.077453  \n",
      "desemp_ingles_B+                    0.027927    0.123048   -1.054050  \n",
      "desemp_ingles_B1                    0.108306    0.165343   -0.635160  \n",
      "\n",
      "[38 rows x 64 columns]\n"
     ]
    }
   ],
   "source": [
    "# Mostrar betas de la regresión para cada variable\n",
    "betas = model1.get_weights()\n",
    "betas_df = pd.DataFrame(betas[0], index=X.columns, columns=[f'neurona_{i+1}' for i in range(64)])\n",
    "print(betas_df)\n",
    "\n"
   ]
  }
 ],
 "metadata": {
  "kernelspec": {
   "display_name": "Python 3",
   "language": "python",
   "name": "python3"
  },
  "language_info": {
   "codemirror_mode": {
    "name": "ipython",
    "version": 3
   },
   "file_extension": ".py",
   "mimetype": "text/x-python",
   "name": "python",
   "nbconvert_exporter": "python",
   "pygments_lexer": "ipython3",
   "version": "3.11.9"
  }
 },
 "nbformat": 4,
 "nbformat_minor": 2
}
